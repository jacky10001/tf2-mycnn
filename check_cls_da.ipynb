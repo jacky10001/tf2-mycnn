{
 "cells": [
  {
   "cell_type": "markdown",
   "metadata": {},
   "source": [
    "### 引入相關python模組"
   ]
  },
  {
   "cell_type": "code",
   "execution_count": null,
   "metadata": {},
   "outputs": [],
   "source": [
    "from mycnn import data\n",
    "import numpy as np\n",
    "import matplotlib.pyplot as plt\n",
    "import tensorflow as tf"
   ]
  },
  {
   "cell_type": "markdown",
   "metadata": {},
   "source": [
    "### 建立 Dataset"
   ]
  },
  {
   "cell_type": "code",
   "execution_count": null,
   "metadata": {},
   "outputs": [],
   "source": [
    "augdict = {\n",
    "    \"flip_h\": {},\n",
    "    \"flip_v\": {},\n",
    "    \"rotate\": {},\n",
    "    # \"hue\": {\"val\": 0.1},\n",
    "    \"brightness\": {\"val\": 0.75},\n",
    "    \"saturation\": {\"lower\": 0.6, \"upper\": 1.6},\n",
    "    \"contrast\": {\"lower\": 0.7, \"upper\": 1.3},\n",
    "    # \"zoom_scale\": {\"scale_minval\": 0.75, \"scale_maxval\": 1.25},\n",
    "}\n",
    "\n",
    "tra_dataset, val_dataset = data.generate_classification_dataset(\n",
    "    './Datasets/DogsVsCats/train',\n",
    "    subtract_mean=0,\n",
    "    divide_stddev=255,\n",
    "    shuffle_filepath=True,\n",
    "    # gray=True,\n",
    "    validation_split=0.2,\n",
    "    **augdict\n",
    ")"
   ]
  },
  {
   "cell_type": "markdown",
   "metadata": {},
   "source": [
    "### 檢查結果"
   ]
  },
  {
   "cell_type": "code",
   "execution_count": null,
   "metadata": {},
   "outputs": [],
   "source": [
    "for x, y in tra_dataset.take(1):\n",
    "    images = x.numpy()\n",
    "    labels = y.numpy()\n",
    "\n",
    "a = images[0,::]\n",
    "# a = tf.cast(images[0,::], tf.uint8)\n",
    "\n",
    "plt.imshow(a)\n",
    "plt.show()"
   ]
  },
  {
   "cell_type": "code",
   "execution_count": null,
   "metadata": {},
   "outputs": [],
   "source": [
    "for x, y in tra_dataset.take(1):\n",
    "    images = x.numpy()\n",
    "    labels = y.numpy()\n",
    "    print(np.max(images))\n",
    "    # print(labels)\n",
    "\n",
    "a = np.zeros((256*4,256*8,3))\n",
    "for i in range(4):\n",
    "    for j in range(8):\n",
    "        a[i*256:(i+1)*256,j*256:(j+1)*256] = images[i*8+j,::]\n",
    "\n",
    "plt.figure(figsize=(16,16))\n",
    "plt.imshow(a)\n",
    "plt.show()"
   ]
  },
  {
   "cell_type": "code",
   "execution_count": null,
   "metadata": {},
   "outputs": [],
   "source": [
    "x = tf.io.read_file(tra_dataset.file_paths[0])\n",
    "x = tf.image.decode_image(x)\n",
    "x = tf.cast(tf.image.resize(x, (256,256)), tf.uint8)\n",
    "\n",
    "seed = tf.random.uniform([2], 1, 10000, dtype=tf.int32)\n",
    "xb = tf.image.stateless_random_brightness(x, 0.5, seed)\n",
    "\n",
    "x /= 255\n",
    "xb /= 255\n",
    "\n",
    "print(x.shape)\n",
    "print(x.dtype)\n",
    "print(np.max(x))\n",
    "print(np.max(xb))\n",
    "\n",
    "plt.subplot(121)\n",
    "plt.imshow(x)\n",
    "plt.subplot(122)\n",
    "plt.imshow(xb)\n",
    "plt.show()"
   ]
  },
  {
   "cell_type": "code",
   "execution_count": null,
   "metadata": {},
   "outputs": [],
   "source": []
  }
 ],
 "metadata": {
  "interpreter": {
   "hash": "2c369c7a0bd18095d69cc6bcfdfaf93c8e305f9651a20b05d28ea042855c27d0"
  },
  "kernelspec": {
   "display_name": "Python 3.7.10 64-bit ('tf2': conda)",
   "language": "python",
   "name": "python3"
  },
  "language_info": {
   "codemirror_mode": {
    "name": "ipython",
    "version": 3
   },
   "file_extension": ".py",
   "mimetype": "text/x-python",
   "name": "python",
   "nbconvert_exporter": "python",
   "pygments_lexer": "ipython3",
   "version": "3.7.10"
  },
  "orig_nbformat": 4
 },
 "nbformat": 4,
 "nbformat_minor": 2
}
