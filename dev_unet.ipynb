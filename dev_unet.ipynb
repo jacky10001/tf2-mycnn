{
 "cells": [
  {
   "cell_type": "markdown",
   "metadata": {},
   "source": [
    "### 引入相關python模組"
   ]
  },
  {
   "cell_type": "code",
   "execution_count": null,
   "metadata": {},
   "outputs": [],
   "source": [
    "from mycnn import UNet\n",
    "from mycnn import data\n",
    "from mycnn import utils\n",
    "import tensorflow as tf\n",
    "import cv2\n",
    "import glob\n",
    "import numpy as np\n",
    "import matplotlib.pyplot as plt"
   ]
  },
  {
   "cell_type": "markdown",
   "metadata": {},
   "source": [
    "### 自動建立VOC分割資料集\n",
    "\n",
    "會自動在工作路徑底下建立資料夾，並建立相關的資料集檔案結構  \n",
    "也會檢查路徑底下是否已經有建立完成檔案，避免重複下載及建立"
   ]
  },
  {
   "cell_type": "code",
   "execution_count": null,
   "metadata": {},
   "outputs": [],
   "source": [
    "data.download_pascal_voc_dataset(\n",
    "    \"./datasets\"\n",
    ")\n",
    "data.make_voc_segment_dataset(\n",
    "    \"./datasets/VOC/VOCdevkit/VOC2012\",\n",
    "    \"./datasets\"\n",
    ")"
   ]
  },
  {
   "cell_type": "markdown",
   "metadata": {},
   "source": [
    "### 使用 `tf.data.Dataset` 來載入分割資料集\n",
    "\n",
    "使用自建的 Dataset 實例來讀取影像、遮罩(mask)，並處理成 CNN 可以訓練的形式\n",
    "\n",
    "```\n",
    "mycnn.data.generate_segmentation_dataset\n",
    "\n",
    "參數名稱            型態    說明\n",
    "directory        : str   : 資料路徑 (子資料夾為類別)\n",
    "image_size       : tuple : 影像大小\n",
    "batch_size       : int   : 批次大小\n",
    "subtract_mean    : float : 減去影像的均值，使其正規化\n",
    "divide_stddev    : float : 除去影像標準差，使其正規化\n",
    "shuffle_filepath : bool  : 打亂資料檔案路徑順序\n",
    "shuffle_dataset  : bool  : 打亂資料讀取順序\n",
    "validation_split : float : 分離驗證集的比例\n",
    "```"
   ]
  },
  {
   "cell_type": "code",
   "execution_count": null,
   "metadata": {},
   "outputs": [],
   "source": [
    "train_dataset, valid_dataset = data.generate_segmentation_dataset(\n",
    "    \"./datasets/VOCSegmentation/train\",\n",
    "    image_size=(572,572),\n",
    "    mask_size=(388,388),\n",
    "    batch_size=1,\n",
    "    subtract_mean=0,\n",
    "    divide_stddev=255,\n",
    "    shuffle_filepath=True,\n",
    "    # shuffle_dataset=True,\n",
    "    validation_split=0.1,\n",
    "    mask_mode=1,  # for original U-net\n",
    ")\n",
    "train_image_paths = train_dataset.image_paths\n",
    "valid_image_paths = valid_dataset.image_paths\n",
    "train_mask_paths = train_dataset.mask_paths\n",
    "valid_mask_paths = valid_dataset.mask_paths"
   ]
  },
  {
   "cell_type": "markdown",
   "metadata": {},
   "source": [
    "### 檢查原始資料"
   ]
  },
  {
   "cell_type": "code",
   "execution_count": null,
   "metadata": {},
   "outputs": [],
   "source": [
    "for i, m in train_dataset.take(1):\n",
    "    bi = i\n",
    "    bm = m\n",
    "print(bi.shape)\n",
    "print(bm.shape)\n",
    "\n",
    "idx = 0\n",
    "plt.subplot(121)\n",
    "plt.imshow(bi[idx])\n",
    "plt.subplot(122)\n",
    "plt.imshow(bm.numpy().reshape(1,388,388,21)[idx,...,0])\n",
    "plt.show()"
   ]
  },
  {
   "cell_type": "markdown",
   "metadata": {},
   "source": [
    "### 載入UNet模型"
   ]
  },
  {
   "cell_type": "code",
   "execution_count": null,
   "metadata": {},
   "outputs": [],
   "source": [
    "unet = UNet(input_shape=(572,572,3), classes_num=21)\n",
    "unet.summary()"
   ]
  },
  {
   "cell_type": "code",
   "execution_count": null,
   "metadata": {},
   "outputs": [],
   "source": [
    "unet.compile(optimizer=tf.keras.optimizers.Adam(),\n",
    "             loss=\"categorical_crossentropy\")\n",
    "unet.fit(train_dataset)"
   ]
  },
  {
   "cell_type": "code",
   "execution_count": null,
   "metadata": {},
   "outputs": [],
   "source": []
  },
  {
   "cell_type": "code",
   "execution_count": null,
   "metadata": {},
   "outputs": [],
   "source": []
  }
 ],
 "metadata": {
  "interpreter": {
   "hash": "2c369c7a0bd18095d69cc6bcfdfaf93c8e305f9651a20b05d28ea042855c27d0"
  },
  "kernelspec": {
   "display_name": "Python 3.7.10 64-bit ('tf2': conda)",
   "language": "python",
   "name": "python3"
  },
  "language_info": {
   "codemirror_mode": {
    "name": "ipython",
    "version": 3
   },
   "file_extension": ".py",
   "mimetype": "text/x-python",
   "name": "python",
   "nbconvert_exporter": "python",
   "pygments_lexer": "ipython3",
   "version": "3.7.10"
  },
  "orig_nbformat": 4
 },
 "nbformat": 4,
 "nbformat_minor": 2
}
