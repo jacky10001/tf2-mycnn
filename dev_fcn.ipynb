{
 "cells": [
  {
   "cell_type": "markdown",
   "metadata": {},
   "source": [
    "### 引入相關python模組"
   ]
  },
  {
   "cell_type": "code",
   "execution_count": 1,
   "metadata": {},
   "outputs": [],
   "source": [
    "from mycnn import FCN8, FCN16, FCN32\n",
    "from mycnn import data\n",
    "from mycnn import utils\n",
    "import tensorflow as tf\n",
    "import cv2\n",
    "import numpy as np\n",
    "import matplotlib.pyplot as plt"
   ]
  },
  {
   "cell_type": "code",
   "execution_count": 4,
   "metadata": {},
   "outputs": [
    {
     "name": "stdout",
     "output_type": "stream",
     "text": [
      "Make some folders.\n",
      "Get data list.\n",
      "Already made dataset.\n"
     ]
    }
   ],
   "source": [
    "data.make_voc_segment_dataset(\n",
    "    r\"D:\\Datasets\\VOC\\VOCdevkit\\VOC2012\",\n",
    "    \"./datasets\"\n",
    ")"
   ]
  },
  {
   "cell_type": "markdown",
   "metadata": {},
   "source": [
    "### 載入FCN模型"
   ]
  },
  {
   "cell_type": "code",
   "execution_count": 5,
   "metadata": {},
   "outputs": [
    {
     "name": "stdout",
     "output_type": "stream",
     "text": [
      "Model: \"FCN8\"\n",
      "________________________________________________________________________________________________________________________\n",
      "Layer (type)                           Output Shape               Param #       Connected to                            \n",
      "========================================================================================================================\n",
      "image (InputLayer)                     [(None, 224, 224, 3)]      0                                                     \n",
      "________________________________________________________________________________________________________________________\n",
      "block1_conv1 (Conv2D)                  (None, 224, 224, 64)       1792          image[0][0]                             \n",
      "________________________________________________________________________________________________________________________\n",
      "block1_bn1 (BatchNormalization)        (None, 224, 224, 64)       256           block1_conv1[0][0]                      \n",
      "________________________________________________________________________________________________________________________\n",
      "block1_relu1 (ReLU)                    (None, 224, 224, 64)       0             block1_bn1[0][0]                        \n",
      "________________________________________________________________________________________________________________________\n",
      "block1_conv2 (Conv2D)                  (None, 224, 224, 64)       36928         block1_relu1[0][0]                      \n",
      "________________________________________________________________________________________________________________________\n",
      "block1_bn2 (BatchNormalization)        (None, 224, 224, 64)       256           block1_conv2[0][0]                      \n",
      "________________________________________________________________________________________________________________________\n",
      "block1_relu2 (ReLU)                    (None, 224, 224, 64)       0             block1_bn2[0][0]                        \n",
      "________________________________________________________________________________________________________________________\n",
      "block1_pool (MaxPooling2D)             (None, 112, 112, 64)       0             block1_relu2[0][0]                      \n",
      "________________________________________________________________________________________________________________________\n",
      "block2_conv1 (Conv2D)                  (None, 112, 112, 128)      73856         block1_pool[0][0]                       \n",
      "________________________________________________________________________________________________________________________\n",
      "block2_bn1 (BatchNormalization)        (None, 112, 112, 128)      512           block2_conv1[0][0]                      \n",
      "________________________________________________________________________________________________________________________\n",
      "block2_relu1 (ReLU)                    (None, 112, 112, 128)      0             block2_bn1[0][0]                        \n",
      "________________________________________________________________________________________________________________________\n",
      "block2_conv2 (Conv2D)                  (None, 112, 112, 128)      147584        block2_relu1[0][0]                      \n",
      "________________________________________________________________________________________________________________________\n",
      "block2_bn2 (BatchNormalization)        (None, 112, 112, 128)      512           block2_conv2[0][0]                      \n",
      "________________________________________________________________________________________________________________________\n",
      "block2_relu2 (ReLU)                    (None, 112, 112, 128)      0             block2_bn2[0][0]                        \n",
      "________________________________________________________________________________________________________________________\n",
      "block2_pool (MaxPooling2D)             (None, 56, 56, 128)        0             block2_relu2[0][0]                      \n",
      "________________________________________________________________________________________________________________________\n",
      "block3_conv1 (Conv2D)                  (None, 56, 56, 256)        295168        block2_pool[0][0]                       \n",
      "________________________________________________________________________________________________________________________\n",
      "block3_bn1 (BatchNormalization)        (None, 56, 56, 256)        1024          block3_conv1[0][0]                      \n",
      "________________________________________________________________________________________________________________________\n",
      "block3_relu1 (ReLU)                    (None, 56, 56, 256)        0             block3_bn1[0][0]                        \n",
      "________________________________________________________________________________________________________________________\n",
      "block3_conv2 (Conv2D)                  (None, 56, 56, 256)        590080        block3_relu1[0][0]                      \n",
      "________________________________________________________________________________________________________________________\n",
      "block3_bn2 (BatchNormalization)        (None, 56, 56, 256)        1024          block3_conv2[0][0]                      \n",
      "________________________________________________________________________________________________________________________\n",
      "block3_relu2 (ReLU)                    (None, 56, 56, 256)        0             block3_bn2[0][0]                        \n",
      "________________________________________________________________________________________________________________________\n",
      "block3_conv3 (Conv2D)                  (None, 56, 56, 256)        590080        block3_relu2[0][0]                      \n",
      "________________________________________________________________________________________________________________________\n",
      "block3_bn3 (BatchNormalization)        (None, 56, 56, 256)        1024          block3_conv3[0][0]                      \n",
      "________________________________________________________________________________________________________________________\n",
      "block3_relu3 (ReLU)                    (None, 56, 56, 256)        0             block3_bn3[0][0]                        \n",
      "________________________________________________________________________________________________________________________\n",
      "block3_pool (MaxPooling2D)             (None, 28, 28, 256)        0             block3_relu3[0][0]                      \n",
      "________________________________________________________________________________________________________________________\n",
      "block4_conv1 (Conv2D)                  (None, 28, 28, 512)        1180160       block3_pool[0][0]                       \n",
      "________________________________________________________________________________________________________________________\n",
      "block4_bn1 (BatchNormalization)        (None, 28, 28, 512)        2048          block4_conv1[0][0]                      \n",
      "________________________________________________________________________________________________________________________\n",
      "block4_relu1 (ReLU)                    (None, 28, 28, 512)        0             block4_bn1[0][0]                        \n",
      "________________________________________________________________________________________________________________________\n",
      "block4_conv2 (Conv2D)                  (None, 28, 28, 512)        2359808       block4_relu1[0][0]                      \n",
      "________________________________________________________________________________________________________________________\n",
      "block4_bn2 (BatchNormalization)        (None, 28, 28, 512)        2048          block4_conv2[0][0]                      \n",
      "________________________________________________________________________________________________________________________\n",
      "block4_relu2 (ReLU)                    (None, 28, 28, 512)        0             block4_bn2[0][0]                        \n",
      "________________________________________________________________________________________________________________________\n",
      "block4_conv3 (Conv2D)                  (None, 28, 28, 512)        2359808       block4_relu2[0][0]                      \n",
      "________________________________________________________________________________________________________________________\n",
      "block4_bn3 (BatchNormalization)        (None, 28, 28, 512)        2048          block4_conv3[0][0]                      \n",
      "________________________________________________________________________________________________________________________\n",
      "block4_relu3 (ReLU)                    (None, 28, 28, 512)        0             block4_bn3[0][0]                        \n",
      "________________________________________________________________________________________________________________________\n",
      "block4_pool (MaxPooling2D)             (None, 14, 14, 512)        0             block4_relu3[0][0]                      \n",
      "________________________________________________________________________________________________________________________\n",
      "block5_conv1 (Conv2D)                  (None, 14, 14, 512)        2359808       block4_pool[0][0]                       \n",
      "________________________________________________________________________________________________________________________\n",
      "block5_bn1 (BatchNormalization)        (None, 14, 14, 512)        2048          block5_conv1[0][0]                      \n",
      "________________________________________________________________________________________________________________________\n",
      "block5_relu1 (ReLU)                    (None, 14, 14, 512)        0             block5_bn1[0][0]                        \n",
      "________________________________________________________________________________________________________________________\n",
      "block5_conv2 (Conv2D)                  (None, 14, 14, 512)        2359808       block5_relu1[0][0]                      \n",
      "________________________________________________________________________________________________________________________\n",
      "block5_bn2 (BatchNormalization)        (None, 14, 14, 512)        2048          block5_conv2[0][0]                      \n",
      "________________________________________________________________________________________________________________________\n",
      "block5_relu2 (ReLU)                    (None, 14, 14, 512)        0             block5_bn2[0][0]                        \n",
      "________________________________________________________________________________________________________________________\n",
      "block5_conv3 (Conv2D)                  (None, 14, 14, 512)        2359808       block5_relu2[0][0]                      \n",
      "________________________________________________________________________________________________________________________\n",
      "block5_bn3 (BatchNormalization)        (None, 14, 14, 512)        2048          block5_conv3[0][0]                      \n",
      "________________________________________________________________________________________________________________________\n",
      "block5_relu3 (ReLU)                    (None, 14, 14, 512)        0             block5_bn3[0][0]                        \n",
      "________________________________________________________________________________________________________________________\n",
      "block5_pool (MaxPooling2D)             (None, 7, 7, 512)          0             block5_relu3[0][0]                      \n",
      "________________________________________________________________________________________________________________________\n",
      "fc_conv1 (Conv2D)                      (None, 7, 7, 4096)         102764544     block5_pool[0][0]                       \n",
      "________________________________________________________________________________________________________________________\n",
      "fc_bn1 (BatchNormalization)            (None, 7, 7, 4096)         16384         fc_conv1[0][0]                          \n",
      "________________________________________________________________________________________________________________________\n",
      "fc_relu1 (ReLU)                        (None, 7, 7, 4096)         0             fc_bn1[0][0]                            \n",
      "________________________________________________________________________________________________________________________\n",
      "fc_dropout (Dropout)                   (None, 7, 7, 4096)         0             fc_relu1[0][0]                          \n",
      "________________________________________________________________________________________________________________________\n",
      "fc_conv2 (Conv2D)                      (None, 7, 7, 4096)         16781312      fc_dropout[0][0]                        \n",
      "________________________________________________________________________________________________________________________\n",
      "fc_bn2 (BatchNormalization)            (None, 7, 7, 4096)         16384         fc_conv2[0][0]                          \n",
      "________________________________________________________________________________________________________________________\n",
      "fc_relu2 (ReLU)                        (None, 7, 7, 4096)         0             fc_bn2[0][0]                            \n",
      "________________________________________________________________________________________________________________________\n",
      "fcn8_conv1 (Conv2D)                    (None, 7, 7, 1)            4097          fc_relu2[0][0]                          \n",
      "________________________________________________________________________________________________________________________\n",
      "fcn8_conv1t (Conv2DTranspose)          (None, 14, 14, 1)          4             fcn8_conv1[0][0]                        \n",
      "________________________________________________________________________________________________________________________\n",
      "fcn8_pool4 (Conv2D)                    (None, 14, 14, 1)          513           block4_pool[0][0]                       \n",
      "________________________________________________________________________________________________________________________\n",
      "fcn8_up_x2 (Add)                       (None, 14, 14, 1)          0             fcn8_conv1t[0][0]                       \n",
      "                                                                                fcn8_pool4[0][0]                        \n",
      "________________________________________________________________________________________________________________________\n",
      "fcn8_conv2 (Conv2D)                    (None, 14, 14, 1)          2             fcn8_up_x2[0][0]                        \n",
      "________________________________________________________________________________________________________________________\n",
      "fcn8_conv2t (Conv2DTranspose)          (None, 28, 28, 1)          4             fcn8_conv2[0][0]                        \n",
      "________________________________________________________________________________________________________________________\n",
      "fcn8_pool3 (Conv2D)                    (None, 28, 28, 1)          257           block3_pool[0][0]                       \n",
      "________________________________________________________________________________________________________________________\n",
      "fcn8_up_x4 (Add)                       (None, 28, 28, 1)          0             fcn8_conv2t[0][0]                       \n",
      "                                                                                fcn8_pool3[0][0]                        \n",
      "________________________________________________________________________________________________________________________\n",
      "fcn8_conv3 (Conv2D)                    (None, 28, 28, 1)          2             fcn8_up_x4[0][0]                        \n",
      "________________________________________________________________________________________________________________________\n",
      "fcn8_conv3t (Conv2DTranspose)          (None, 224, 224, 1)        64            fcn8_conv3[0][0]                        \n",
      "________________________________________________________________________________________________________________________\n",
      "predictions (Softmax)                  (None, 224, 224, 1)        0             fcn8_conv3t[0][0]                       \n",
      "========================================================================================================================\n",
      "Total params: 134,315,151\n",
      "Trainable params: 134,290,319\n",
      "Non-trainable params: 24,832\n",
      "________________________________________________________________________________________________________________________\n"
     ]
    }
   ],
   "source": [
    "fcn8 = FCN8(classes_num=1)\n",
    "fcn8.summary()"
   ]
  },
  {
   "cell_type": "code",
   "execution_count": 6,
   "metadata": {},
   "outputs": [],
   "source": [
    "def parse_fn(dataset, **kwargs):\n",
    "    # 分離 dataset\n",
    "    path_x = dataset[\"in\"]\n",
    "    path_y = dataset[\"out\"]\n",
    "\n",
    "    # 讀取 image\n",
    "    x = tf.io.read_file(path_x)\n",
    "    x = tf.io.decode_image(x, channels=3, expand_animations=False)\n",
    "    \n",
    "    y = tf.io.read_file(path_y)\n",
    "    y = tf.io.decode_image(y, channels=1, expand_animations=False)\n",
    "\n",
    "    # 對影像進行正規化，及增加影像通道\n",
    "    x = tf.cast(x, tf.float32) / 255.0\n",
    "    # x = tf.expand_dims(x, axis=-1)\n",
    "    # y = tf.cast(y, tf.float32)\n",
    "    # y = tf.expand_dims(y, axis=-1)\n",
    "\n",
    "    return x, y # 回傳資料"
   ]
  },
  {
   "cell_type": "code",
   "execution_count": 7,
   "metadata": {},
   "outputs": [],
   "source": [
    "# tra_data_in = glob.glob(r\"data\\in\\*.png\")\n",
    "# tra_data_out = glob.glob(r\"data\\out\\*.png\")\n",
    "\n",
    "tra_data_in = [\"datasets/VOCSegmentation/train/images/2007_000032.jpg\"]\n",
    "tra_data_out = [\"datasets/VOCSegmentation/train/masks/2007_000032.png\"]\n",
    "\n",
    "tra_data = {}\n",
    "tra_data[\"in\"] = tra_data_in\n",
    "tra_data[\"out\"] = tra_data_out\n",
    "\n",
    "autotune = tf.data.experimental.AUTOTUNE\n",
    "#-----------------------------------------------------------------------------#\n",
    "tra_ds = tf.data.Dataset.from_tensor_slices(tra_data)\n",
    "tra_ds = tra_ds.map(lambda ds: parse_fn(ds), num_parallel_calls=autotune)\n",
    "tra_ds = tra_ds.batch(1)"
   ]
  },
  {
   "cell_type": "code",
   "execution_count": 12,
   "metadata": {},
   "outputs": [
    {
     "name": "stdout",
     "output_type": "stream",
     "text": [
      "(281, 500, 3)\n",
      "(281, 500, 1)\n",
      "float32\n",
      "uint8\n",
      "1.0\n",
      "0.0\n",
      "15\n",
      "0\n"
     ]
    },
    {
     "data": {
      "image/png": "[encoded data removed]",
      "text/plain": [
       "<Figure size 432x288 with 2 Axes>"
      ]
     },
     "metadata": {
      "needs_background": "light"
     },
     "output_type": "display_data"
    }
   ],
   "source": [
    "for x, y in tra_ds.take(1):\n",
    "    images = x.numpy()\n",
    "    labels = y.numpy()\n",
    "\n",
    "a = images[0,::]\n",
    "b = labels[0,::]\n",
    "\n",
    "print(a.shape)\n",
    "print(b.shape)\n",
    "\n",
    "print(a.dtype)\n",
    "print(b.dtype)\n",
    "\n",
    "print(np.max(a))\n",
    "print(np.min(a))\n",
    "\n",
    "print(np.max(b))\n",
    "print(np.min(b))\n",
    "\n",
    "\n",
    "plt.subplot(121)\n",
    "plt.imshow(a)\n",
    "plt.subplot(122)\n",
    "plt.imshow(b)\n",
    "plt.show()"
   ]
  },
  {
   "cell_type": "code",
   "execution_count": null,
   "metadata": {},
   "outputs": [],
   "source": []
  },
  {
   "cell_type": "code",
   "execution_count": null,
   "metadata": {},
   "outputs": [],
   "source": [
    "fcn8.compile(optimizer=tf.keras.optimizers.Adam(),\n",
    "             loss=\"mse\")\n",
    "fcn8.fit(tra_ds)"
   ]
  },
  {
   "cell_type": "code",
   "execution_count": null,
   "metadata": {},
   "outputs": [],
   "source": []
  }
 ],
 "metadata": {
  "interpreter": {
   "hash": "2c369c7a0bd18095d69cc6bcfdfaf93c8e305f9651a20b05d28ea042855c27d0"
  },
  "kernelspec": {
   "display_name": "Python 3.7.10 64-bit ('tf2': conda)",
   "language": "python",
   "name": "python3"
  },
  "language_info": {
   "codemirror_mode": {
    "name": "ipython",
    "version": 3
   },
   "file_extension": ".py",
   "mimetype": "text/x-python",
   "name": "python",
   "nbconvert_exporter": "python",
   "pygments_lexer": "ipython3",
   "version": "3.7.10"
  },
  "orig_nbformat": 4
 },
 "nbformat": 4,
 "nbformat_minor": 2
}
