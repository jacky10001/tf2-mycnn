{
 "cells": [
  {
   "cell_type": "markdown",
   "metadata": {},
   "source": [
    "### 引入相關python模組"
   ]
  },
  {
   "cell_type": "code",
   "execution_count": 1,
   "metadata": {},
   "outputs": [],
   "source": [
    "from mycnn import ResNet50\n",
    "from mycnn import utils\n",
    "import tensorflow as tf\n",
    "import numpy as np"
   ]
  },
  {
   "cell_type": "markdown",
   "metadata": {},
   "source": [
    "### 使用Keras API來建立Dataset實例\n",
    "\n",
    "利用Keras API中的`preprocessing`模組的`image_dataset_from_directory`  \n",
    "用此函數來建立貓狗的資料集，此函數將會回傳`tf.data.Dataset`的實例  \n",
    "接著使用`map`函式來重新縮放(正規化)資料區間至 [0, 1]\n",
    "\n",
    "#### tf.keras.preprocessing.image_dataset_from_directory\n",
    "\n",
    "```\n",
    "參數名稱            型態    說明\n",
    "directory        : str   : 資料路徑 (子資料夾為類別)\n",
    "image_size       : tuple : 影像大小\n",
    "batch_size       : int   : 批次大小\n",
    "label_mode       : str   : 標記模式 \"categorical\" (註:其他模式需要修改loss函數)\n",
    "validation_split : float : 分離驗證集的比例\n",
    "subset           : str   : 選擇訓練集 \"training\"、驗證集 \"validation\"\n",
    "seed             : int   : 亂數種子\n",
    "```"
   ]
  },
  {
   "cell_type": "code",
   "execution_count": 2,
   "metadata": {},
   "outputs": [
    {
     "name": "stdout",
     "output_type": "stream",
     "text": [
      "Found 25000 files belonging to 2 classes.\n",
      "Using 20000 files for training.\n",
      "Found 25000 files belonging to 2 classes.\n",
      "Using 5000 files for validation.\n"
     ]
    },
    {
     "data": {
      "text/plain": [
       "<MapDataset shapes: ((None, 224, 224, 3), (None, 2)), types: (tf.float32, tf.float32)>"
      ]
     },
     "execution_count": 2,
     "metadata": {},
     "output_type": "execute_result"
    }
   ],
   "source": [
    "train_dataset = tf.keras.preprocessing.image_dataset_from_directory(\n",
    "    r'D:\\Datasets\\DogsVsCats\\train',\n",
    "    image_size=(224,224),\n",
    "    batch_size=20,\n",
    "    label_mode=\"categorical\",\n",
    "    validation_split=0.2,\n",
    "    subset=\"training\",\n",
    "    seed=10\n",
    ")\n",
    "train_dataset.map(lambda x, y: (x/255., y))\n",
    "\n",
    "\n",
    "valid_dataset = tf.keras.preprocessing.image_dataset_from_directory(\n",
    "    r'D:\\Datasets\\DogsVsCats\\train',\n",
    "    image_size=(224,224),\n",
    "    batch_size=20,\n",
    "    label_mode=\"categorical\",\n",
    "    validation_split=0.2,\n",
    "    subset=\"validation\",\n",
    "    seed=10\n",
    ")\n",
    "valid_dataset.map(lambda x, y: (x/255., y))"
   ]
  },
  {
   "cell_type": "markdown",
   "metadata": {},
   "source": [
    "### 載入ResNet50模型\n",
    "\n",
    "```\n",
    "參數名稱       型態    說明\n",
    "input_shape : tuple : 輸入影像形狀\n",
    "classes_num : int   : 輸出類別數量\n",
    "```"
   ]
  },
  {
   "cell_type": "code",
   "execution_count": 3,
   "metadata": {},
   "outputs": [
    {
     "name": "stdout",
     "output_type": "stream",
     "text": [
      "Model: \"ResNet50\"\n",
      "_________________________________________________________________\n",
      "Layer (type)                 Output Shape              Param #   \n",
      "=================================================================\n",
      "image (InputLayer)           [(None, 224, 224, 3)]     0         \n",
      "_________________________________________________________________\n",
      "conv1_pad (ZeroPadding2D)    (None, 230, 230, 3)       0         \n",
      "_________________________________________________________________\n",
      "conv1_conv (Conv2D)          (None, 112, 112, 64)      9472      \n",
      "_________________________________________________________________\n",
      "conv1_bn (BatchNormalization (None, 112, 112, 64)      256       \n",
      "_________________________________________________________________\n",
      "conv1_relu (ReLU)            (None, 112, 112, 64)      0         \n",
      "_________________________________________________________________\n",
      "pool_pad (ZeroPadding2D)     (None, 114, 114, 64)      0         \n",
      "_________________________________________________________________\n",
      "pool (MaxPooling2D)          (None, 56, 56, 64)        0         \n",
      "_________________________________________________________________\n",
      "stage1_1 (ResBlock)          (None, 56, 56, 256)       76928     \n",
      "_________________________________________________________________\n",
      "stage1_2 (ResBlock)          (None, 56, 56, 256)       71552     \n",
      "_________________________________________________________________\n",
      "stage1_3 (ResBlock)          (None, 56, 56, 256)       71552     \n",
      "_________________________________________________________________\n",
      "stage2_1 (ResBlock)          (None, 28, 28, 512)       383232    \n",
      "_________________________________________________________________\n",
      "stage2_2 (ResBlock)          (None, 28, 28, 512)       282368    \n",
      "_________________________________________________________________\n",
      "stage2_3 (ResBlock)          (None, 28, 28, 512)       282368    \n",
      "_________________________________________________________________\n",
      "stage2_4 (ResBlock)          (None, 28, 28, 512)       282368    \n",
      "_________________________________________________________________\n",
      "stage3_1 (ResBlock)          (None, 14, 14, 1024)      1520128   \n",
      "_________________________________________________________________\n",
      "stage3_2 (ResBlock)          (None, 14, 14, 1024)      1121792   \n",
      "_________________________________________________________________\n",
      "stage3_3 (ResBlock)          (None, 14, 14, 1024)      1121792   \n",
      "_________________________________________________________________\n",
      "stage3_4 (ResBlock)          (None, 14, 14, 1024)      1121792   \n",
      "_________________________________________________________________\n",
      "stage3_5 (ResBlock)          (None, 14, 14, 1024)      1121792   \n",
      "_________________________________________________________________\n",
      "stage3_6 (ResBlock)          (None, 14, 14, 1024)      1121792   \n",
      "_________________________________________________________________\n",
      "stage4_1 (ResBlock)          (None, 7, 7, 2048)        6054912   \n",
      "_________________________________________________________________\n",
      "stage4_2 (ResBlock)          (None, 7, 7, 2048)        4471808   \n",
      "_________________________________________________________________\n",
      "stage4_3 (ResBlock)          (None, 7, 7, 2048)        4471808   \n",
      "_________________________________________________________________\n",
      "avg_pool (GlobalAveragePooli (None, 2048)              0         \n",
      "_________________________________________________________________\n",
      "predictions (Dense)          (None, 2)                 4098      \n",
      "=================================================================\n",
      "Total params: 23,591,810\n",
      "Trainable params: 23,538,690\n",
      "Non-trainable params: 53,120\n",
      "_________________________________________________________________\n"
     ]
    }
   ],
   "source": [
    "resnet50 = ResNet50(classes_num=2)\n",
    "resnet50.summary()"
   ]
  },
  {
   "cell_type": "markdown",
   "metadata": {},
   "source": [
    "### 配置訓練參數\n",
    "\n",
    "```\n",
    "參數名稱      型態                         說明\n",
    "logdir     : str                        : 儲存路徑\n",
    "epochs     : int                        : 訓練次數\n",
    "batch_size : int                        : 批次大小 (註:此設定需與image_dataset_from_directory的批次大小一致)\n",
    "optimizer  : str or tf.keras.optimizers : 優化函數\n",
    "loss       : str or tf.keras.loss       : 損失函數\n",
    "metrics    : list                       : 評估函數清單\n",
    "```"
   ]
  },
  {
   "cell_type": "code",
   "execution_count": 4,
   "metadata": {},
   "outputs": [
    {
     "name": "stdout",
     "output_type": "stream",
     "text": [
      "[Info] Create new the directory for training log !!!!!\n",
      "******************************\n",
      "Training new model...\n",
      "******************************\n",
      "checkpoint_path : log_resnet50\\weights\n",
      "best_checkpoint : log_resnet50\\weights.h5\n",
      "epochs          : 10\n",
      "initial_epoch   : 0\n",
      "batch_size      : 20\n",
      "optimizer       : <tensorflow.python.keras.optimizer_v2.adam.Adam object at 0x000001A438713388>\n",
      "loss            : categorical_crossentropy\n",
      "metrics         : ['accuracy']\n"
     ]
    }
   ],
   "source": [
    "resnet50.setup_training(\n",
    "    'log_resnet50',\n",
    "    epochs=10,\n",
    "    batch_size=20,  # batch size depend on `image_dataset_from_directory`\n",
    "    optimizer=tf.keras.optimizers.Adam(learning_rate=0.0001),\n",
    "    loss='categorical_crossentropy',\n",
    "    metrics=['accuracy']\n",
    ")\n",
    "resnet50.add_callback(\n",
    "    tf.keras.callbacks.ReduceLROnPlateau(\n",
    "        monitor='val_loss', \n",
    "        factor=0.1, patience=2,\n",
    "        min_lr=0.00001,\n",
    "        verbose=1\n",
    "    )\n",
    ")"
   ]
  },
  {
   "cell_type": "markdown",
   "metadata": {},
   "source": [
    "### 開始訓練\n",
    "\n",
    "輸入參數分別為訓練資料集、驗證資料集的實例"
   ]
  },
  {
   "cell_type": "code",
   "execution_count": 5,
   "metadata": {},
   "outputs": [
    {
     "name": "stdout",
     "output_type": "stream",
     "text": [
      "Epoch 1/10\n",
      "1000/1000 [==============================] - 581s 569ms/step - loss: 0.7350 - accuracy: 0.5825 - val_loss: 0.7358 - val_accuracy: 0.6010\n",
      "\n",
      "Epoch 00001: val_loss improved from inf to 0.73576, saving model to log_resnet50\\weights.h5\n",
      "Epoch 2/10\n",
      "1000/1000 [==============================] - 616s 615ms/step - loss: 0.6199 - accuracy: 0.6657 - val_loss: 0.6983 - val_accuracy: 0.6548\n",
      "\n",
      "Epoch 00002: val_loss improved from 0.73576 to 0.69832, saving model to log_resnet50\\weights.h5\n",
      "Epoch 3/10\n",
      "1000/1000 [==============================] - 627s 627ms/step - loss: 0.5536 - accuracy: 0.7226 - val_loss: 0.5426 - val_accuracy: 0.7188\n",
      "\n",
      "Epoch 00003: val_loss improved from 0.69832 to 0.54258, saving model to log_resnet50\\weights.h5\n",
      "Epoch 4/10\n",
      "1000/1000 [==============================] - 621s 621ms/step - loss: 0.4853 - accuracy: 0.7697 - val_loss: 0.7183 - val_accuracy: 0.6648\n",
      "\n",
      "Epoch 00004: val_loss did not improve from 0.54258\n",
      "Epoch 5/10\n",
      "1000/1000 [==============================] - 571s 570ms/step - loss: 0.4243 - accuracy: 0.8044 - val_loss: 0.4754 - val_accuracy: 0.7760\n",
      "\n",
      "Epoch 00005: val_loss improved from 0.54258 to 0.47544, saving model to log_resnet50\\weights.h5\n",
      "Epoch 6/10\n",
      "1000/1000 [==============================] - 537s 537ms/step - loss: 0.3665 - accuracy: 0.8382 - val_loss: 1.3052 - val_accuracy: 0.5892\n",
      "\n",
      "Epoch 00006: val_loss did not improve from 0.47544\n",
      "Epoch 7/10\n",
      "1000/1000 [==============================] - 611s 611ms/step - loss: 0.2887 - accuracy: 0.8769 - val_loss: 0.6014 - val_accuracy: 0.6782\n",
      "\n",
      "Epoch 00007: val_loss did not improve from 0.47544\n",
      "\n",
      "Epoch 00007: ReduceLROnPlateau reducing learning rate to 1e-05.\n",
      "Epoch 8/10\n",
      "1000/1000 [==============================] - 579s 578ms/step - loss: 0.1903 - accuracy: 0.9242 - val_loss: 0.2720 - val_accuracy: 0.8944\n",
      "\n",
      "Epoch 00008: val_loss improved from 0.47544 to 0.27204, saving model to log_resnet50\\weights.h5\n",
      "Epoch 9/10\n",
      "1000/1000 [==============================] - 517s 517ms/step - loss: 0.1203 - accuracy: 0.9539 - val_loss: 0.2850 - val_accuracy: 0.8962\n",
      "\n",
      "Epoch 00009: val_loss did not improve from 0.27204\n",
      "Epoch 10/10\n",
      "1000/1000 [==============================] - 518s 518ms/step - loss: 0.0727 - accuracy: 0.9726 - val_loss: 0.3312 - val_accuracy: 0.8898\n",
      "\n",
      "Epoch 00010: val_loss did not improve from 0.27204\n"
     ]
    }
   ],
   "source": [
    "resnet50.train_dataset(train_dataset, valid_dataset)"
   ]
  },
  {
   "cell_type": "markdown",
   "metadata": {},
   "source": [
    "### 繪製訓練過程曲線\n",
    "\n",
    "可以用來確認權重是否有收斂的趨勢、檢查是否有過擬合狀況"
   ]
  },
  {
   "cell_type": "code",
   "execution_count": 9,
   "metadata": {},
   "outputs": [
    {
     "data": {
      "image/png": "[encoded data removed]",
      "text/plain": [
       "<Figure size 432x288 with 1 Axes>"
      ]
     },
     "metadata": {
      "needs_background": "light"
     },
     "output_type": "display_data"
    },
    {
     "data": {
      "image/png": "[encoded data removed]",
      "text/plain": [
       "<Figure size 432x288 with 1 Axes>"
      ]
     },
     "metadata": {
      "needs_background": "light"
     },
     "output_type": "display_data"
    }
   ],
   "source": [
    "resnet50.show_history([\"loss\", \"accuracy\"])"
   ]
  },
  {
   "cell_type": "markdown",
   "metadata": {},
   "source": [
    "### 使用測試資料來確認模型對於新資料的效能"
   ]
  },
  {
   "cell_type": "code",
   "execution_count": 10,
   "metadata": {},
   "outputs": [
    {
     "name": "stdout",
     "output_type": "stream",
     "text": [
      "250/250 [==============================] - 40s 157ms/step - loss: 0.3312 - accuracy: 0.8898\n"
     ]
    },
    {
     "data": {
      "text/plain": [
       "[0.33123263716697693, 0.8898000121116638]"
      ]
     },
     "execution_count": 10,
     "metadata": {},
     "output_type": "execute_result"
    }
   ],
   "source": [
    "resnet50.eval_dataset(valid_dataset)"
   ]
  },
  {
   "cell_type": "markdown",
   "metadata": {},
   "source": [
    "### 使用confusion matrix來更進一步確認分類性能\n",
    "\n",
    "- 預測測試資料的分數 (基於softmax函數計算機率分布)\n",
    "- 使用`argmax`將分數轉成類別ID\n",
    "- 輸出分類報告 (印出confusion matrix、分類報告；輸出完整報表)\n",
    "- 繪製confusion matrix，分為recall、precision\n",
    "\n",
    "> Note:  \n",
    "recall: 召回率，在所有GT中，真正預測出TP的指標  \n",
    "precision: 精確率，在所有預測結果中，真正為TP的指標  \n",
    "(GT: 真實情況；TP: 正樣本)"
   ]
  },
  {
   "cell_type": "code",
   "execution_count": 11,
   "metadata": {},
   "outputs": [
    {
     "name": "stdout",
     "output_type": "stream",
     "text": [
      "Found 25000 files belonging to 2 classes.\n",
      "Using 5000 files for validation.\n"
     ]
    },
    {
     "name": "stderr",
     "output_type": "stream",
     "text": [
      "100%|██████████| 5000/5000 [00:00<00:00, 227146.42it/s]\n"
     ]
    },
    {
     "name": "stdout",
     "output_type": "stream",
     "text": [
      "[[2269  224]\n",
      " [ 327 2180]] \n",
      "\n",
      "              precision    recall  f1-score   support\n",
      "\n",
      "        Cats       0.87      0.91      0.89      2493\n",
      "        Dogs       0.91      0.87      0.89      2507\n",
      "\n",
      "    accuracy                           0.89      5000\n",
      "   macro avg       0.89      0.89      0.89      5000\n",
      "weighted avg       0.89      0.89      0.89      5000\n",
      " \n",
      "\n"
     ]
    },
    {
     "data": {
      "image/png": "[encoded data removed]",
      "text/plain": [
       "<Figure size 800x480 with 1 Axes>"
      ]
     },
     "metadata": {
      "needs_background": "light"
     },
     "output_type": "display_data"
    },
    {
     "data": {
      "image/png": "[encoded data removed]",
      "text/plain": [
       "<Figure size 800x480 with 1 Axes>"
      ]
     },
     "metadata": {
      "needs_background": "light"
     },
     "output_type": "display_data"
    }
   ],
   "source": [
    "pred_dataset = tf.keras.preprocessing.image_dataset_from_directory(\n",
    "    r'D:\\Datasets\\DogsVsCats\\train',\n",
    "    image_size=(224,224),\n",
    "    batch_size=20,\n",
    "    label_mode=\"categorical\",\n",
    "    validation_split=0.2,\n",
    "    subset=\"validation\",\n",
    "    seed=10\n",
    ")\n",
    "pred_dataset.map(lambda x, y: (x/255., y))\n",
    "\n",
    "pr_score = None\n",
    "pr_label = None\n",
    "gt_label = None\n",
    "for ind, batch_set in enumerate(pred_dataset):\n",
    "    batch_im, batch_gt = batch_set\n",
    "    batch_pr = resnet50.pred(batch_im.numpy())\n",
    "    if ind == 0:\n",
    "        pr_score = batch_pr\n",
    "        pr_label = batch_pr.argmax(axis=-1)\n",
    "        gt_label = batch_gt.numpy().argmax(axis=-1)\n",
    "    else:\n",
    "        pr_score = np.concatenate([pr_score, batch_pr])\n",
    "        pr_label = np.concatenate([pr_label, batch_pr.argmax(axis=-1)])\n",
    "        gt_label = np.concatenate([gt_label, batch_gt.numpy().argmax(axis=-1)])\n",
    "\n",
    "target_names = [\"Cats\", \"Dogs\"]\n",
    "\n",
    "report = utils.export_classification_report(\n",
    "    gt_label, pr_label, pr_score,\n",
    "    target_names=target_names,\n",
    "    logpath=resnet50.logdir\n",
    ")\n",
    "\n",
    "cm = report[\"confusion_matrix\"]\n",
    "cm_precision = cm/cm.sum(axis=0)\n",
    "cm_recall = cm/cm.sum(axis=1)\n",
    "utils.plot_confusion_matrix(cm_recall, target_names, resnet50.logdir, title='Confusion Matrix (recall)')\n",
    "utils.plot_confusion_matrix(cm_precision, target_names, resnet50.logdir, title='Confusion Matrix (precision)')"
   ]
  },
  {
   "cell_type": "code",
   "execution_count": null,
   "metadata": {},
   "outputs": [],
   "source": []
  }
 ],
 "metadata": {
  "interpreter": {
   "hash": "2c369c7a0bd18095d69cc6bcfdfaf93c8e305f9651a20b05d28ea042855c27d0"
  },
  "kernelspec": {
   "display_name": "Python 3.7.10 64-bit ('tf2': conda)",
   "language": "python",
   "name": "python3"
  },
  "language_info": {
   "codemirror_mode": {
    "name": "ipython",
    "version": 3
   },
   "file_extension": ".py",
   "mimetype": "text/x-python",
   "name": "python",
   "nbconvert_exporter": "python",
   "pygments_lexer": "ipython3",
   "version": "3.7.10"
  },
  "orig_nbformat": 4
 },
 "nbformat": 4,
 "nbformat_minor": 2
}
