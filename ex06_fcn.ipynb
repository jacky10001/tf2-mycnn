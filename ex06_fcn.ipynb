{
 "cells": [
  {
   "cell_type": "markdown",
   "metadata": {},
   "source": [
    "### 引入相關python模組"
   ]
  },
  {
   "cell_type": "code",
   "execution_count": 1,
   "metadata": {},
   "outputs": [],
   "source": [
    "from mycnn import FCN8, FCN16, FCN32\n",
    "from mycnn import data\n",
    "from mycnn import losses\n",
    "from mycnn import utils\n",
    "import tensorflow as tf\n",
    "import cv2\n",
    "import numpy as np\n",
    "import matplotlib.pyplot as plt"
   ]
  },
  {
   "cell_type": "markdown",
   "metadata": {},
   "source": [
    "### 自動建立VOC分割資料集\n",
    "\n",
    "會自動在工作路徑底下建立資料夾，並建立相關的資料集檔案結構  \n",
    "也會檢查路徑底下是否已經有建立完成檔案，避免重複下載及建立"
   ]
  },
  {
   "cell_type": "code",
   "execution_count": 2,
   "metadata": {},
   "outputs": [
    {
     "name": "stdout",
     "output_type": "stream",
     "text": [
      "Already download tar file.\n",
      "Already Uutar tar file.\n",
      "Make some folders.\n",
      "Get data list.\n",
      "Already made dataset.\n"
     ]
    }
   ],
   "source": [
    "data.download_pascal_voc_dataset(\n",
    "    \"./datasets\"\n",
    ")\n",
    "data.make_voc_segment_dataset(\n",
    "    \"./datasets/VOC/VOCdevkit/VOC2012\",\n",
    "    \"./datasets\"\n",
    ")"
   ]
  },
  {
   "cell_type": "markdown",
   "metadata": {},
   "source": [
    "### 使用 `tf.data.Dataset` 來載入分割資料集\n",
    "\n",
    "使用自建的 Dataset 實例來讀取影像、遮罩(mask)，並處理成 CNN 可以訓練的形式\n",
    "\n",
    "```\n",
    "mycnn.data.generate_segmentation_dataset\n",
    "\n",
    "參數名稱            型態    說明\n",
    "directory        : str   : 資料路徑 (子資料夾為類別)\n",
    "image_size       : tuple : 影像大小\n",
    "batch_size       : int   : 批次大小\n",
    "subtract_mean    : float : 減去影像的均值，使其正規化\n",
    "divide_stddev    : float : 除去影像標準差，使其正規化\n",
    "shuffle_filepath : bool  : 打亂資料檔案路徑順序\n",
    "shuffle_dataset  : bool  : 打亂資料讀取順序\n",
    "validation_split : float : 分離驗證集的比例\n",
    "```"
   ]
  },
  {
   "cell_type": "code",
   "execution_count": 3,
   "metadata": {},
   "outputs": [
    {
     "name": "stdout",
     "output_type": "stream",
     "text": [
      "Read segmentation dataset.\n",
      "\n",
      "Found 2913 image files and 2913.\n",
      "Using 2622 files for training.\n",
      "Using 291 files for validation.\n",
      "\n",
      "train - RGB image - Not use data augmentation.\n",
      "Rescale value to [0.0, 1.0].\n",
      "\n",
      "valid - RGB image - Not use data augmentation.\n",
      "Rescale value to [0.0, 1.0].\n"
     ]
    }
   ],
   "source": [
    "train_dataset, valid_dataset = data.generate_segmentation_dataset(\n",
    "    \"./datasets/VOCSegmentation/train\",\n",
    "    image_size=(224,224),\n",
    "    batch_size=4,\n",
    "    subtract_mean=0,\n",
    "    divide_stddev=255,\n",
    "    shuffle_filepath=True,\n",
    "    # shuffle_dataset=True,\n",
    "    validation_split=0.1,\n",
    ")\n",
    "train_image_paths = train_dataset.image_paths\n",
    "valid_image_paths = valid_dataset.image_paths\n",
    "train_mask_paths = train_dataset.mask_paths\n",
    "valid_mask_paths = valid_dataset.mask_paths"
   ]
  },
  {
   "cell_type": "markdown",
   "metadata": {},
   "source": [
    "### 檢查原始資料"
   ]
  },
  {
   "cell_type": "code",
   "execution_count": 4,
   "metadata": {},
   "outputs": [],
   "source": [
    "# for i, m in valid_dataset.take(1):\n",
    "#     bi = i\n",
    "#     bm = m\n",
    "# print(bi.shape)\n",
    "# print(bm.shape)\n",
    "\n",
    "# idx = 0\n",
    "# plt.subplot(121)\n",
    "# plt.imshow(bi[idx])\n",
    "# plt.subplot(122)\n",
    "# plt.imshow(bm[idx,...,0])\n",
    "# plt.show()"
   ]
  },
  {
   "cell_type": "markdown",
   "metadata": {},
   "source": [
    "### 載入模型\n",
    "\n",
    "```\n",
    "參數名稱       型態    說明\n",
    "input_shape : tuple : 輸入影像形狀\n",
    "classes_num : int   : 輸出類別數量\n",
    "```"
   ]
  },
  {
   "cell_type": "code",
   "execution_count": 5,
   "metadata": {},
   "outputs": [
    {
     "name": "stdout",
     "output_type": "stream",
     "text": [
      "Model: \"FCN8\"\n",
      "________________________________________________________________________________________________________________________\n",
      "Layer (type)                           Output Shape               Param #       Connected to                            \n",
      "========================================================================================================================\n",
      "image (InputLayer)                     [(None, 224, 224, 3)]      0                                                     \n",
      "________________________________________________________________________________________________________________________\n",
      "block1_conv1 (Conv2D)                  (None, 224, 224, 64)       1792          image[0][0]                             \n",
      "________________________________________________________________________________________________________________________\n",
      "block1_bn1 (BatchNormalization)        (None, 224, 224, 64)       256           block1_conv1[0][0]                      \n",
      "________________________________________________________________________________________________________________________\n",
      "block1_relu1 (ReLU)                    (None, 224, 224, 64)       0             block1_bn1[0][0]                        \n",
      "________________________________________________________________________________________________________________________\n",
      "block1_conv2 (Conv2D)                  (None, 224, 224, 64)       36928         block1_relu1[0][0]                      \n",
      "________________________________________________________________________________________________________________________\n",
      "block1_bn2 (BatchNormalization)        (None, 224, 224, 64)       256           block1_conv2[0][0]                      \n",
      "________________________________________________________________________________________________________________________\n",
      "block1_relu2 (ReLU)                    (None, 224, 224, 64)       0             block1_bn2[0][0]                        \n",
      "________________________________________________________________________________________________________________________\n",
      "block1_pool (MaxPooling2D)             (None, 112, 112, 64)       0             block1_relu2[0][0]                      \n",
      "________________________________________________________________________________________________________________________\n",
      "block2_conv1 (Conv2D)                  (None, 112, 112, 128)      73856         block1_pool[0][0]                       \n",
      "________________________________________________________________________________________________________________________\n",
      "block2_bn1 (BatchNormalization)        (None, 112, 112, 128)      512           block2_conv1[0][0]                      \n",
      "________________________________________________________________________________________________________________________\n",
      "block2_relu1 (ReLU)                    (None, 112, 112, 128)      0             block2_bn1[0][0]                        \n",
      "________________________________________________________________________________________________________________________\n",
      "block2_conv2 (Conv2D)                  (None, 112, 112, 128)      147584        block2_relu1[0][0]                      \n",
      "________________________________________________________________________________________________________________________\n",
      "block2_bn2 (BatchNormalization)        (None, 112, 112, 128)      512           block2_conv2[0][0]                      \n",
      "________________________________________________________________________________________________________________________\n",
      "block2_relu2 (ReLU)                    (None, 112, 112, 128)      0             block2_bn2[0][0]                        \n",
      "________________________________________________________________________________________________________________________\n",
      "block2_pool (MaxPooling2D)             (None, 56, 56, 128)        0             block2_relu2[0][0]                      \n",
      "________________________________________________________________________________________________________________________\n",
      "block3_conv1 (Conv2D)                  (None, 56, 56, 256)        295168        block2_pool[0][0]                       \n",
      "________________________________________________________________________________________________________________________\n",
      "block3_bn1 (BatchNormalization)        (None, 56, 56, 256)        1024          block3_conv1[0][0]                      \n",
      "________________________________________________________________________________________________________________________\n",
      "block3_relu1 (ReLU)                    (None, 56, 56, 256)        0             block3_bn1[0][0]                        \n",
      "________________________________________________________________________________________________________________________\n",
      "block3_conv2 (Conv2D)                  (None, 56, 56, 256)        590080        block3_relu1[0][0]                      \n",
      "________________________________________________________________________________________________________________________\n",
      "block3_bn2 (BatchNormalization)        (None, 56, 56, 256)        1024          block3_conv2[0][0]                      \n",
      "________________________________________________________________________________________________________________________\n",
      "block3_relu2 (ReLU)                    (None, 56, 56, 256)        0             block3_bn2[0][0]                        \n",
      "________________________________________________________________________________________________________________________\n",
      "block3_conv3 (Conv2D)                  (None, 56, 56, 256)        590080        block3_relu2[0][0]                      \n",
      "________________________________________________________________________________________________________________________\n",
      "block3_bn3 (BatchNormalization)        (None, 56, 56, 256)        1024          block3_conv3[0][0]                      \n",
      "________________________________________________________________________________________________________________________\n",
      "block3_relu3 (ReLU)                    (None, 56, 56, 256)        0             block3_bn3[0][0]                        \n",
      "________________________________________________________________________________________________________________________\n",
      "block3_pool (MaxPooling2D)             (None, 28, 28, 256)        0             block3_relu3[0][0]                      \n",
      "________________________________________________________________________________________________________________________\n",
      "block4_conv1 (Conv2D)                  (None, 28, 28, 512)        1180160       block3_pool[0][0]                       \n",
      "________________________________________________________________________________________________________________________\n",
      "block4_bn1 (BatchNormalization)        (None, 28, 28, 512)        2048          block4_conv1[0][0]                      \n",
      "________________________________________________________________________________________________________________________\n",
      "block4_relu1 (ReLU)                    (None, 28, 28, 512)        0             block4_bn1[0][0]                        \n",
      "________________________________________________________________________________________________________________________\n",
      "block4_conv2 (Conv2D)                  (None, 28, 28, 512)        2359808       block4_relu1[0][0]                      \n",
      "________________________________________________________________________________________________________________________\n",
      "block4_bn2 (BatchNormalization)        (None, 28, 28, 512)        2048          block4_conv2[0][0]                      \n",
      "________________________________________________________________________________________________________________________\n",
      "block4_relu2 (ReLU)                    (None, 28, 28, 512)        0             block4_bn2[0][0]                        \n",
      "________________________________________________________________________________________________________________________\n",
      "block4_conv3 (Conv2D)                  (None, 28, 28, 512)        2359808       block4_relu2[0][0]                      \n",
      "________________________________________________________________________________________________________________________\n",
      "block4_bn3 (BatchNormalization)        (None, 28, 28, 512)        2048          block4_conv3[0][0]                      \n",
      "________________________________________________________________________________________________________________________\n",
      "block4_relu3 (ReLU)                    (None, 28, 28, 512)        0             block4_bn3[0][0]                        \n",
      "________________________________________________________________________________________________________________________\n",
      "block4_pool (MaxPooling2D)             (None, 14, 14, 512)        0             block4_relu3[0][0]                      \n",
      "________________________________________________________________________________________________________________________\n",
      "block5_conv1 (Conv2D)                  (None, 14, 14, 512)        2359808       block4_pool[0][0]                       \n",
      "________________________________________________________________________________________________________________________\n",
      "block5_bn1 (BatchNormalization)        (None, 14, 14, 512)        2048          block5_conv1[0][0]                      \n",
      "________________________________________________________________________________________________________________________\n",
      "block5_relu1 (ReLU)                    (None, 14, 14, 512)        0             block5_bn1[0][0]                        \n",
      "________________________________________________________________________________________________________________________\n",
      "block5_conv2 (Conv2D)                  (None, 14, 14, 512)        2359808       block5_relu1[0][0]                      \n",
      "________________________________________________________________________________________________________________________\n",
      "block5_bn2 (BatchNormalization)        (None, 14, 14, 512)        2048          block5_conv2[0][0]                      \n",
      "________________________________________________________________________________________________________________________\n",
      "block5_relu2 (ReLU)                    (None, 14, 14, 512)        0             block5_bn2[0][0]                        \n",
      "________________________________________________________________________________________________________________________\n",
      "block5_conv3 (Conv2D)                  (None, 14, 14, 512)        2359808       block5_relu2[0][0]                      \n",
      "________________________________________________________________________________________________________________________\n",
      "block5_bn3 (BatchNormalization)        (None, 14, 14, 512)        2048          block5_conv3[0][0]                      \n",
      "________________________________________________________________________________________________________________________\n",
      "block5_relu3 (ReLU)                    (None, 14, 14, 512)        0             block5_bn3[0][0]                        \n",
      "________________________________________________________________________________________________________________________\n",
      "block5_pool (MaxPooling2D)             (None, 7, 7, 512)          0             block5_relu3[0][0]                      \n",
      "________________________________________________________________________________________________________________________\n",
      "fc_conv1 (Conv2D)                      (None, 7, 7, 512)          12845568      block5_pool[0][0]                       \n",
      "________________________________________________________________________________________________________________________\n",
      "fc_bn1 (BatchNormalization)            (None, 7, 7, 512)          2048          fc_conv1[0][0]                          \n",
      "________________________________________________________________________________________________________________________\n",
      "fc_relu1 (ReLU)                        (None, 7, 7, 512)          0             fc_bn1[0][0]                            \n",
      "________________________________________________________________________________________________________________________\n",
      "fc_dropout (Dropout)                   (None, 7, 7, 512)          0             fc_relu1[0][0]                          \n",
      "________________________________________________________________________________________________________________________\n",
      "fc_conv2 (Conv2D)                      (None, 7, 7, 512)          262656        fc_dropout[0][0]                        \n",
      "________________________________________________________________________________________________________________________\n",
      "fc_bn2 (BatchNormalization)            (None, 7, 7, 512)          2048          fc_conv2[0][0]                          \n",
      "________________________________________________________________________________________________________________________\n",
      "fc_relu2 (ReLU)                        (None, 7, 7, 512)          0             fc_bn2[0][0]                            \n",
      "________________________________________________________________________________________________________________________\n",
      "fcn8_conv1 (Conv2D)                    (None, 7, 7, 21)           10773         fc_relu2[0][0]                          \n",
      "________________________________________________________________________________________________________________________\n",
      "fcn8_conv1t (Conv2DTranspose)          (None, 14, 14, 21)         1764          fcn8_conv1[0][0]                        \n",
      "________________________________________________________________________________________________________________________\n",
      "fcn8_pool4 (Conv2D)                    (None, 14, 14, 21)         10773         block4_pool[0][0]                       \n",
      "________________________________________________________________________________________________________________________\n",
      "fcn8_up_x2 (Add)                       (None, 14, 14, 21)         0             fcn8_conv1t[0][0]                       \n",
      "                                                                                fcn8_pool4[0][0]                        \n",
      "________________________________________________________________________________________________________________________\n",
      "fcn8_conv2 (Conv2D)                    (None, 14, 14, 21)         462           fcn8_up_x2[0][0]                        \n",
      "________________________________________________________________________________________________________________________\n",
      "fcn8_conv2t (Conv2DTranspose)          (None, 28, 28, 21)         1764          fcn8_conv2[0][0]                        \n",
      "________________________________________________________________________________________________________________________\n",
      "fcn8_pool3 (Conv2D)                    (None, 28, 28, 21)         5397          block3_pool[0][0]                       \n",
      "________________________________________________________________________________________________________________________\n",
      "fcn8_up_x4 (Add)                       (None, 28, 28, 21)         0             fcn8_conv2t[0][0]                       \n",
      "                                                                                fcn8_pool3[0][0]                        \n",
      "________________________________________________________________________________________________________________________\n",
      "fcn8_conv3 (Conv2D)                    (None, 28, 28, 21)         462           fcn8_up_x4[0][0]                        \n",
      "________________________________________________________________________________________________________________________\n",
      "fcn8_conv3t (Conv2DTranspose)          (None, 224, 224, 21)       28224         fcn8_conv3[0][0]                        \n",
      "________________________________________________________________________________________________________________________\n",
      "predictions (Softmax)                  (None, 224, 224, 21)       0             fcn8_conv3t[0][0]                       \n",
      "========================================================================================================================\n",
      "Total params: 27,903,523\n",
      "Trainable params: 27,893,027\n",
      "Non-trainable params: 10,496\n",
      "________________________________________________________________________________________________________________________\n"
     ]
    }
   ],
   "source": [
    "cnn = FCN8(classes_num=21, filters_list=[64,128,256,512,512,512])\n",
    "cnn.summary()"
   ]
  },
  {
   "cell_type": "markdown",
   "metadata": {},
   "source": [
    "### 配置訓練參數\n",
    "\n",
    "```\n",
    "參數名稱      型態                         說明\n",
    "logdir     : str                        : 儲存路徑\n",
    "epochs     : int                        : 訓練次數\n",
    "batch_size : int                        : 批次大小 (註:此設定需與image_dataset_from_directory的批次大小一致)\n",
    "optimizer  : str or tf.keras.optimizers : 優化函數\n",
    "loss       : str or tf.keras.loss       : 損失函數\n",
    "metrics    : list                       : 評估函數清單\n",
    "```"
   ]
  },
  {
   "cell_type": "code",
   "execution_count": 6,
   "metadata": {},
   "outputs": [
    {
     "name": "stdout",
     "output_type": "stream",
     "text": [
      "[Info] Create new the directory for training log !!!!!\n",
      "******************************\n",
      "Training new model...\n",
      "******************************\n",
      "checkpoint_path : log_fcn\\weights\n",
      "best_checkpoint : log_fcn\\weights.h5\n",
      "epochs          : 100\n",
      "initial_epoch   : 0\n",
      "batch_size      : 4\n",
      "optimizer       : {'name': 'Adam', 'learning_rate': 0.001, 'decay': 0.0, 'beta_1': 0.9, 'beta_2': 0.999, 'epsilon': 1e-07, 'amsgrad': False}\n",
      "loss            : categorical_crossentropy\n",
      "metrics         : ['Accuracy', <function DiceLoss at 0x0000017852274430>]\n"
     ]
    },
    {
     "data": {
      "text/plain": [
       "<mycnn.fcn.FCN8 at 0x17834636be0>"
      ]
     },
     "execution_count": 6,
     "metadata": {},
     "output_type": "execute_result"
    }
   ],
   "source": [
    "cnn.setup_training(\n",
    "    'log_fcn',\n",
    "    epochs=100,\n",
    "    batch_size=train_dataset.batch_size,  # batch size depend on ImageGenerator\n",
    "    optimizer=tf.keras.optimizers.Adam(learning_rate=0.001),\n",
    "    loss=\"categorical_crossentropy\",\n",
    "    metrics=[\"Accuracy\", losses.DiceLoss],\n",
    ")"
   ]
  },
  {
   "cell_type": "markdown",
   "metadata": {},
   "source": [
    "### 開始訓練\n",
    "\n",
    "輸入參數分別為訓練資料集、驗證資料集的實例"
   ]
  },
  {
   "cell_type": "code",
   "execution_count": 7,
   "metadata": {},
   "outputs": [
    {
     "name": "stdout",
     "output_type": "stream",
     "text": [
      "Epoch 1/100\n",
      "72/73 [============================>.] - ETA: 0s - loss: 2.1001 - accuracy: 0.0000e+00 - DiceLoss: 0.6875"
     ]
    },
    {
     "ename": "InternalError",
     "evalue": " MatrixTriangularSolveOp: failed to copy rhs from device\n\t [[node FCN8/fc_bn1/FusedBatchNormV3 (defined at e:\\YJ\\tf2-mycnn\\mycnn\\core\\base_model.py:306) ]] [Op:__inference_train_function_4337]\n\nFunction call stack:\ntrain_function\n",
     "output_type": "error",
     "traceback": [
      "\u001b[1;31m---------------------------------------------------------------------------\u001b[0m",
      "\u001b[1;31mInternalError\u001b[0m                             Traceback (most recent call last)",
      "\u001b[1;32m~\\AppData\\Local\\Temp/ipykernel_1744/1514902389.py\u001b[0m in \u001b[0;36m<module>\u001b[1;34m\u001b[0m\n\u001b[1;32m----> 1\u001b[1;33m \u001b[0mcnn\u001b[0m\u001b[1;33m.\u001b[0m\u001b[0mtrain_dataset\u001b[0m\u001b[1;33m(\u001b[0m\u001b[0mtrain_dataset\u001b[0m\u001b[1;33m,\u001b[0m \u001b[0mvalid_dataset\u001b[0m\u001b[1;33m)\u001b[0m\u001b[1;33m\u001b[0m\u001b[1;33m\u001b[0m\u001b[0m\n\u001b[0m",
      "\u001b[1;32me:\\YJ\\tf2-mycnn\\mycnn\\core\\_wrapper.py\u001b[0m in \u001b[0;36mwrapper\u001b[1;34m(self, *args, **kwargs)\u001b[0m\n\u001b[0;32m     26\u001b[0m             \u001b[1;32mif\u001b[0m \u001b[1;32mnot\u001b[0m \u001b[0mself\u001b[0m\u001b[1;33m.\u001b[0m\u001b[0mtraining\u001b[0m \u001b[1;32mand\u001b[0m \u001b[1;34m\"training\"\u001b[0m \u001b[1;32min\u001b[0m \u001b[0mstate\u001b[0m\u001b[1;33m:\u001b[0m\u001b[1;33m\u001b[0m\u001b[1;33m\u001b[0m\u001b[0m\n\u001b[0;32m     27\u001b[0m                 \u001b[1;32mraise\u001b[0m \u001b[0mNotImplementedError\u001b[0m\u001b[1;33m(\u001b[0m\u001b[1;34m'Not define training parameter, please call `setup_training()` method.'\u001b[0m\u001b[1;33m)\u001b[0m\u001b[1;33m\u001b[0m\u001b[1;33m\u001b[0m\u001b[0m\n\u001b[1;32m---> 28\u001b[1;33m             \u001b[1;32mreturn\u001b[0m \u001b[0mmth\u001b[0m\u001b[1;33m(\u001b[0m\u001b[0mself\u001b[0m\u001b[1;33m,\u001b[0m \u001b[1;33m*\u001b[0m\u001b[0margs\u001b[0m\u001b[1;33m,\u001b[0m \u001b[1;33m**\u001b[0m\u001b[0mkwargs\u001b[0m\u001b[1;33m)\u001b[0m\u001b[1;33m\u001b[0m\u001b[1;33m\u001b[0m\u001b[0m\n\u001b[0m\u001b[0;32m     29\u001b[0m         \u001b[1;32mreturn\u001b[0m \u001b[0mwrapper\u001b[0m\u001b[1;33m\u001b[0m\u001b[1;33m\u001b[0m\u001b[0m\n\u001b[0;32m     30\u001b[0m     \u001b[1;32mreturn\u001b[0m \u001b[0mdecorator\u001b[0m\u001b[1;33m\u001b[0m\u001b[1;33m\u001b[0m\u001b[0m\n",
      "\u001b[1;32me:\\YJ\\tf2-mycnn\\mycnn\\core\\base_model.py\u001b[0m in \u001b[0;36mtrain_dataset\u001b[1;34m(self, tra_dataset, val_dataset, last_checkpoint)\u001b[0m\n\u001b[0;32m    304\u001b[0m             raise FileNotFoundError(f\"[Error] No such weights file: {last_checkpoint} \"\n\u001b[0;32m    305\u001b[0m                                     \"Please first by calling `setup_logfile()`\")\n\u001b[1;32m--> 306\u001b[1;33m         self.__M.fit(tra_dataset, validation_data=val_dataset,\n\u001b[0m\u001b[0;32m    307\u001b[0m                      \u001b[0mepochs\u001b[0m\u001b[1;33m=\u001b[0m\u001b[0mself\u001b[0m\u001b[1;33m.\u001b[0m\u001b[0m__cfg\u001b[0m\u001b[1;33m[\u001b[0m\u001b[1;34m'epochs'\u001b[0m\u001b[1;33m]\u001b[0m\u001b[1;33m,\u001b[0m\u001b[1;33m\u001b[0m\u001b[1;33m\u001b[0m\u001b[0m\n\u001b[0;32m    308\u001b[0m                      \u001b[0minitial_epoch\u001b[0m\u001b[1;33m=\u001b[0m\u001b[0mself\u001b[0m\u001b[1;33m.\u001b[0m\u001b[0m__cfg\u001b[0m\u001b[1;33m[\u001b[0m\u001b[1;34m'initial_epoch'\u001b[0m\u001b[1;33m]\u001b[0m\u001b[1;33m,\u001b[0m\u001b[1;33m\u001b[0m\u001b[1;33m\u001b[0m\u001b[0m\n",
      "\u001b[1;32mC:\\Anaconda3\\envs\\tf2\\lib\\site-packages\\tensorflow\\python\\keras\\engine\\training.py\u001b[0m in \u001b[0;36mfit\u001b[1;34m(self, x, y, batch_size, epochs, verbose, callbacks, validation_split, validation_data, shuffle, class_weight, sample_weight, initial_epoch, steps_per_epoch, validation_steps, validation_batch_size, validation_freq, max_queue_size, workers, use_multiprocessing)\u001b[0m\n\u001b[0;32m   1098\u001b[0m                 _r=1):\n\u001b[0;32m   1099\u001b[0m               \u001b[0mcallbacks\u001b[0m\u001b[1;33m.\u001b[0m\u001b[0mon_train_batch_begin\u001b[0m\u001b[1;33m(\u001b[0m\u001b[0mstep\u001b[0m\u001b[1;33m)\u001b[0m\u001b[1;33m\u001b[0m\u001b[1;33m\u001b[0m\u001b[0m\n\u001b[1;32m-> 1100\u001b[1;33m               \u001b[0mtmp_logs\u001b[0m \u001b[1;33m=\u001b[0m \u001b[0mself\u001b[0m\u001b[1;33m.\u001b[0m\u001b[0mtrain_function\u001b[0m\u001b[1;33m(\u001b[0m\u001b[0miterator\u001b[0m\u001b[1;33m)\u001b[0m\u001b[1;33m\u001b[0m\u001b[1;33m\u001b[0m\u001b[0m\n\u001b[0m\u001b[0;32m   1101\u001b[0m               \u001b[1;32mif\u001b[0m \u001b[0mdata_handler\u001b[0m\u001b[1;33m.\u001b[0m\u001b[0mshould_sync\u001b[0m\u001b[1;33m:\u001b[0m\u001b[1;33m\u001b[0m\u001b[1;33m\u001b[0m\u001b[0m\n\u001b[0;32m   1102\u001b[0m                 \u001b[0mcontext\u001b[0m\u001b[1;33m.\u001b[0m\u001b[0masync_wait\u001b[0m\u001b[1;33m(\u001b[0m\u001b[1;33m)\u001b[0m\u001b[1;33m\u001b[0m\u001b[1;33m\u001b[0m\u001b[0m\n",
      "\u001b[1;32mC:\\Anaconda3\\envs\\tf2\\lib\\site-packages\\tensorflow\\python\\eager\\def_function.py\u001b[0m in \u001b[0;36m__call__\u001b[1;34m(self, *args, **kwds)\u001b[0m\n\u001b[0;32m    826\u001b[0m     \u001b[0mtracing_count\u001b[0m \u001b[1;33m=\u001b[0m \u001b[0mself\u001b[0m\u001b[1;33m.\u001b[0m\u001b[0mexperimental_get_tracing_count\u001b[0m\u001b[1;33m(\u001b[0m\u001b[1;33m)\u001b[0m\u001b[1;33m\u001b[0m\u001b[1;33m\u001b[0m\u001b[0m\n\u001b[0;32m    827\u001b[0m     \u001b[1;32mwith\u001b[0m \u001b[0mtrace\u001b[0m\u001b[1;33m.\u001b[0m\u001b[0mTrace\u001b[0m\u001b[1;33m(\u001b[0m\u001b[0mself\u001b[0m\u001b[1;33m.\u001b[0m\u001b[0m_name\u001b[0m\u001b[1;33m)\u001b[0m \u001b[1;32mas\u001b[0m \u001b[0mtm\u001b[0m\u001b[1;33m:\u001b[0m\u001b[1;33m\u001b[0m\u001b[1;33m\u001b[0m\u001b[0m\n\u001b[1;32m--> 828\u001b[1;33m       \u001b[0mresult\u001b[0m \u001b[1;33m=\u001b[0m \u001b[0mself\u001b[0m\u001b[1;33m.\u001b[0m\u001b[0m_call\u001b[0m\u001b[1;33m(\u001b[0m\u001b[1;33m*\u001b[0m\u001b[0margs\u001b[0m\u001b[1;33m,\u001b[0m \u001b[1;33m**\u001b[0m\u001b[0mkwds\u001b[0m\u001b[1;33m)\u001b[0m\u001b[1;33m\u001b[0m\u001b[1;33m\u001b[0m\u001b[0m\n\u001b[0m\u001b[0;32m    829\u001b[0m       \u001b[0mcompiler\u001b[0m \u001b[1;33m=\u001b[0m \u001b[1;34m\"xla\"\u001b[0m \u001b[1;32mif\u001b[0m \u001b[0mself\u001b[0m\u001b[1;33m.\u001b[0m\u001b[0m_experimental_compile\u001b[0m \u001b[1;32melse\u001b[0m \u001b[1;34m\"nonXla\"\u001b[0m\u001b[1;33m\u001b[0m\u001b[1;33m\u001b[0m\u001b[0m\n\u001b[0;32m    830\u001b[0m       \u001b[0mnew_tracing_count\u001b[0m \u001b[1;33m=\u001b[0m \u001b[0mself\u001b[0m\u001b[1;33m.\u001b[0m\u001b[0mexperimental_get_tracing_count\u001b[0m\u001b[1;33m(\u001b[0m\u001b[1;33m)\u001b[0m\u001b[1;33m\u001b[0m\u001b[1;33m\u001b[0m\u001b[0m\n",
      "\u001b[1;32mC:\\Anaconda3\\envs\\tf2\\lib\\site-packages\\tensorflow\\python\\eager\\def_function.py\u001b[0m in \u001b[0;36m_call\u001b[1;34m(self, *args, **kwds)\u001b[0m\n\u001b[0;32m    853\u001b[0m       \u001b[1;31m# In this case we have created variables on the first call, so we run the\u001b[0m\u001b[1;33m\u001b[0m\u001b[1;33m\u001b[0m\u001b[1;33m\u001b[0m\u001b[0m\n\u001b[0;32m    854\u001b[0m       \u001b[1;31m# defunned version which is guaranteed to never create variables.\u001b[0m\u001b[1;33m\u001b[0m\u001b[1;33m\u001b[0m\u001b[1;33m\u001b[0m\u001b[0m\n\u001b[1;32m--> 855\u001b[1;33m       \u001b[1;32mreturn\u001b[0m \u001b[0mself\u001b[0m\u001b[1;33m.\u001b[0m\u001b[0m_stateless_fn\u001b[0m\u001b[1;33m(\u001b[0m\u001b[1;33m*\u001b[0m\u001b[0margs\u001b[0m\u001b[1;33m,\u001b[0m \u001b[1;33m**\u001b[0m\u001b[0mkwds\u001b[0m\u001b[1;33m)\u001b[0m  \u001b[1;31m# pylint: disable=not-callable\u001b[0m\u001b[1;33m\u001b[0m\u001b[1;33m\u001b[0m\u001b[0m\n\u001b[0m\u001b[0;32m    856\u001b[0m     \u001b[1;32melif\u001b[0m \u001b[0mself\u001b[0m\u001b[1;33m.\u001b[0m\u001b[0m_stateful_fn\u001b[0m \u001b[1;32mis\u001b[0m \u001b[1;32mnot\u001b[0m \u001b[1;32mNone\u001b[0m\u001b[1;33m:\u001b[0m\u001b[1;33m\u001b[0m\u001b[1;33m\u001b[0m\u001b[0m\n\u001b[0;32m    857\u001b[0m       \u001b[1;31m# Release the lock early so that multiple threads can perform the call\u001b[0m\u001b[1;33m\u001b[0m\u001b[1;33m\u001b[0m\u001b[1;33m\u001b[0m\u001b[0m\n",
      "\u001b[1;32mC:\\Anaconda3\\envs\\tf2\\lib\\site-packages\\tensorflow\\python\\eager\\function.py\u001b[0m in \u001b[0;36m__call__\u001b[1;34m(self, *args, **kwargs)\u001b[0m\n\u001b[0;32m   2940\u001b[0m       (graph_function,\n\u001b[0;32m   2941\u001b[0m        filtered_flat_args) = self._maybe_define_function(args, kwargs)\n\u001b[1;32m-> 2942\u001b[1;33m     return graph_function._call_flat(\n\u001b[0m\u001b[0;32m   2943\u001b[0m         filtered_flat_args, captured_inputs=graph_function.captured_inputs)  # pylint: disable=protected-access\n\u001b[0;32m   2944\u001b[0m \u001b[1;33m\u001b[0m\u001b[0m\n",
      "\u001b[1;32mC:\\Anaconda3\\envs\\tf2\\lib\\site-packages\\tensorflow\\python\\eager\\function.py\u001b[0m in \u001b[0;36m_call_flat\u001b[1;34m(self, args, captured_inputs, cancellation_manager)\u001b[0m\n\u001b[0;32m   1916\u001b[0m         and executing_eagerly):\n\u001b[0;32m   1917\u001b[0m       \u001b[1;31m# No tape is watching; skip to running the function.\u001b[0m\u001b[1;33m\u001b[0m\u001b[1;33m\u001b[0m\u001b[1;33m\u001b[0m\u001b[0m\n\u001b[1;32m-> 1918\u001b[1;33m       return self._build_call_outputs(self._inference_function.call(\n\u001b[0m\u001b[0;32m   1919\u001b[0m           ctx, args, cancellation_manager=cancellation_manager))\n\u001b[0;32m   1920\u001b[0m     forward_backward = self._select_forward_and_backward_functions(\n",
      "\u001b[1;32mC:\\Anaconda3\\envs\\tf2\\lib\\site-packages\\tensorflow\\python\\eager\\function.py\u001b[0m in \u001b[0;36mcall\u001b[1;34m(self, ctx, args, cancellation_manager)\u001b[0m\n\u001b[0;32m    553\u001b[0m       \u001b[1;32mwith\u001b[0m \u001b[0m_InterpolateFunctionError\u001b[0m\u001b[1;33m(\u001b[0m\u001b[0mself\u001b[0m\u001b[1;33m)\u001b[0m\u001b[1;33m:\u001b[0m\u001b[1;33m\u001b[0m\u001b[1;33m\u001b[0m\u001b[0m\n\u001b[0;32m    554\u001b[0m         \u001b[1;32mif\u001b[0m \u001b[0mcancellation_manager\u001b[0m \u001b[1;32mis\u001b[0m \u001b[1;32mNone\u001b[0m\u001b[1;33m:\u001b[0m\u001b[1;33m\u001b[0m\u001b[1;33m\u001b[0m\u001b[0m\n\u001b[1;32m--> 555\u001b[1;33m           outputs = execute.execute(\n\u001b[0m\u001b[0;32m    556\u001b[0m               \u001b[0mstr\u001b[0m\u001b[1;33m(\u001b[0m\u001b[0mself\u001b[0m\u001b[1;33m.\u001b[0m\u001b[0msignature\u001b[0m\u001b[1;33m.\u001b[0m\u001b[0mname\u001b[0m\u001b[1;33m)\u001b[0m\u001b[1;33m,\u001b[0m\u001b[1;33m\u001b[0m\u001b[1;33m\u001b[0m\u001b[0m\n\u001b[0;32m    557\u001b[0m               \u001b[0mnum_outputs\u001b[0m\u001b[1;33m=\u001b[0m\u001b[0mself\u001b[0m\u001b[1;33m.\u001b[0m\u001b[0m_num_outputs\u001b[0m\u001b[1;33m,\u001b[0m\u001b[1;33m\u001b[0m\u001b[1;33m\u001b[0m\u001b[0m\n",
      "\u001b[1;32mC:\\Anaconda3\\envs\\tf2\\lib\\site-packages\\tensorflow\\python\\eager\\execute.py\u001b[0m in \u001b[0;36mquick_execute\u001b[1;34m(op_name, num_outputs, inputs, attrs, ctx, name)\u001b[0m\n\u001b[0;32m     57\u001b[0m   \u001b[1;32mtry\u001b[0m\u001b[1;33m:\u001b[0m\u001b[1;33m\u001b[0m\u001b[1;33m\u001b[0m\u001b[0m\n\u001b[0;32m     58\u001b[0m     \u001b[0mctx\u001b[0m\u001b[1;33m.\u001b[0m\u001b[0mensure_initialized\u001b[0m\u001b[1;33m(\u001b[0m\u001b[1;33m)\u001b[0m\u001b[1;33m\u001b[0m\u001b[1;33m\u001b[0m\u001b[0m\n\u001b[1;32m---> 59\u001b[1;33m     tensors = pywrap_tfe.TFE_Py_Execute(ctx._handle, device_name, op_name,\n\u001b[0m\u001b[0;32m     60\u001b[0m                                         inputs, attrs, num_outputs)\n\u001b[0;32m     61\u001b[0m   \u001b[1;32mexcept\u001b[0m \u001b[0mcore\u001b[0m\u001b[1;33m.\u001b[0m\u001b[0m_NotOkStatusException\u001b[0m \u001b[1;32mas\u001b[0m \u001b[0me\u001b[0m\u001b[1;33m:\u001b[0m\u001b[1;33m\u001b[0m\u001b[1;33m\u001b[0m\u001b[0m\n",
      "\u001b[1;31mInternalError\u001b[0m:  MatrixTriangularSolveOp: failed to copy rhs from device\n\t [[node FCN8/fc_bn1/FusedBatchNormV3 (defined at e:\\YJ\\tf2-mycnn\\mycnn\\core\\base_model.py:306) ]] [Op:__inference_train_function_4337]\n\nFunction call stack:\ntrain_function\n"
     ]
    }
   ],
   "source": [
    "cnn.train_dataset(train_dataset, valid_dataset)"
   ]
  },
  {
   "cell_type": "markdown",
   "metadata": {},
   "source": [
    "### 繪製訓練過程曲線\n",
    "\n",
    "可以用來確認權重是否有收斂的趨勢、檢查是否有過擬合狀況"
   ]
  },
  {
   "cell_type": "code",
   "execution_count": null,
   "metadata": {},
   "outputs": [],
   "source": [
    "cnn.show_history([\"loss\"])"
   ]
  },
  {
   "cell_type": "markdown",
   "metadata": {},
   "source": [
    "### 使用測試資料來確認模型對於新資料的效能"
   ]
  },
  {
   "cell_type": "code",
   "execution_count": null,
   "metadata": {},
   "outputs": [],
   "source": [
    "cnn.eval_dataset(valid_dataset)"
   ]
  },
  {
   "cell_type": "markdown",
   "metadata": {},
   "source": [
    "### 預測單筆資料"
   ]
  },
  {
   "cell_type": "code",
   "execution_count": null,
   "metadata": {},
   "outputs": [],
   "source": [
    "idx = 0\n",
    "\n",
    "file_path = train_image_paths[idx]\n",
    "print(file_path)\n",
    "image = cv2.imread(file_path)\n",
    "\n",
    "resized_image = cv2.resize(image, (224,224))\n",
    "plt.imshow(resized_image)\n",
    "plt.show()\n",
    "\n",
    "batch_one_image = np.expand_dims(resized_image, axis=0)\n",
    "print(batch_one_image.shape)\n",
    "\n",
    "pr_sc = cnn.predict(batch_one_image)\n",
    "for i in range(1):\n",
    "    plt.imshow(pr_sc[0,:,:,i])\n",
    "    plt.show()"
   ]
  },
  {
   "cell_type": "code",
   "execution_count": null,
   "metadata": {},
   "outputs": [],
   "source": []
  }
 ],
 "metadata": {
  "interpreter": {
   "hash": "2c369c7a0bd18095d69cc6bcfdfaf93c8e305f9651a20b05d28ea042855c27d0"
  },
  "kernelspec": {
   "display_name": "Python 3.7.10 64-bit ('tf2': conda)",
   "language": "python",
   "name": "python3"
  },
  "language_info": {
   "codemirror_mode": {
    "name": "ipython",
    "version": 3
   },
   "file_extension": ".py",
   "mimetype": "text/x-python",
   "name": "python",
   "nbconvert_exporter": "python",
   "pygments_lexer": "ipython3",
   "version": "3.8.12"
  },
  "orig_nbformat": 4
 },
 "nbformat": 4,
 "nbformat_minor": 2
}
