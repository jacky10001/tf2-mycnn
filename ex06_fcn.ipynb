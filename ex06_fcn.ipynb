{
 "cells": [
  {
   "cell_type": "markdown",
   "metadata": {},
   "source": [
    "### 引入相關python模組"
   ]
  },
  {
   "cell_type": "code",
   "execution_count": null,
   "metadata": {},
   "outputs": [],
   "source": [
    "from mycnn import FCN8, FCN16, FCN32, FCN8_KERAS, FCN16_KERAS, FCN32_KERAS\n",
    "from mycnn import data\n",
    "from mycnn import losses\n",
    "from mycnn import utils\n",
    "import tensorflow as tf\n",
    "import cv2\n",
    "import numpy as np\n",
    "import matplotlib.pyplot as plt"
   ]
  },
  {
   "cell_type": "markdown",
   "metadata": {},
   "source": [
    "### 自動建立VOC分割資料集\n",
    "\n",
    "會自動在工作路徑底下建立資料夾，並建立相關的資料集檔案結構  \n",
    "也會檢查路徑底下是否已經有建立完成檔案，避免重複下載及建立"
   ]
  },
  {
   "cell_type": "code",
   "execution_count": null,
   "metadata": {},
   "outputs": [],
   "source": [
    "data.download_pascal_voc_dataset(\n",
    "    \"./datasets\"\n",
    ")\n",
    "data.make_voc_segment_dataset(\n",
    "    \"./datasets/VOC/VOCdevkit/VOC2012\",\n",
    "    \"./datasets\"\n",
    ")"
   ]
  },
  {
   "cell_type": "markdown",
   "metadata": {},
   "source": [
    "### 使用 `tf.data.Dataset` 來載入分割資料集\n",
    "\n",
    "使用自建的 Dataset 實例來讀取影像、遮罩(mask)，並處理成 CNN 可以訓練的形式\n",
    "\n",
    "```\n",
    "mycnn.data.generate_segmentation_dataset\n",
    "\n",
    "參數名稱            型態    說明\n",
    "directory        : str   : 資料路徑 (子資料夾為類別)\n",
    "image_size       : tuple : 影像大小\n",
    "batch_size       : int   : 批次大小\n",
    "subtract_mean    : float : 減去影像的均值，使其正規化\n",
    "divide_stddev    : float : 除去影像標準差，使其正規化\n",
    "shuffle_filepath : bool  : 打亂資料檔案路徑順序\n",
    "shuffle_dataset  : bool  : 打亂資料讀取順序\n",
    "validation_split : float : 分離驗證集的比例\n",
    "```"
   ]
  },
  {
   "cell_type": "code",
   "execution_count": null,
   "metadata": {},
   "outputs": [],
   "source": [
    "train_dataset, valid_dataset = data.generate_segmentation_dataset(\n",
    "    \"./datasets/VOCSegmentation/train\",\n",
    "    image_size=(224,224),\n",
    "    batch_size=10,\n",
    "    subtract_mean=0,\n",
    "    divide_stddev=255,\n",
    "    shuffle_filepath=True,\n",
    "    # shuffle_dataset=True,\n",
    "    validation_split=0.1,\n",
    ")\n",
    "train_image_paths = train_dataset.image_paths\n",
    "valid_image_paths = valid_dataset.image_paths\n",
    "train_mask_paths = train_dataset.mask_paths\n",
    "valid_mask_paths = valid_dataset.mask_paths"
   ]
  },
  {
   "cell_type": "markdown",
   "metadata": {},
   "source": [
    "### 檢查原始資料"
   ]
  },
  {
   "cell_type": "code",
   "execution_count": null,
   "metadata": {},
   "outputs": [],
   "source": [
    "for i, m in train_dataset.take(1):\n",
    "    bi = i\n",
    "    bm = m\n",
    "print(bi.shape)\n",
    "print(bm.shape)\n",
    "\n",
    "idx = 0\n",
    "plt.subplot(121)\n",
    "plt.imshow(bi[idx]/255.)\n",
    "plt.subplot(122)\n",
    "plt.imshow(bm.numpy().reshape(10,224,224,21)[idx,...,0])\n",
    "plt.show()"
   ]
  },
  {
   "cell_type": "markdown",
   "metadata": {},
   "source": [
    "### 載入模型\n",
    "\n",
    "```\n",
    "參數名稱       型態    說明\n",
    "input_shape : tuple : 輸入影像形狀\n",
    "classes_num : int   : 輸出類別數量\n",
    "```"
   ]
  },
  {
   "cell_type": "code",
   "execution_count": null,
   "metadata": {},
   "outputs": [],
   "source": [
    "# cnn = FCN8(classes_num=21, filters_list=[64,128,256,512,512,512])\n",
    "cnn = FCN8_KERAS(classes_num=21, top_filters=512)\n",
    "cnn.summary()"
   ]
  },
  {
   "cell_type": "markdown",
   "metadata": {},
   "source": [
    "### 配置訓練參數\n",
    "\n",
    "```\n",
    "參數名稱      型態                         說明\n",
    "logdir     : str                        : 儲存路徑\n",
    "epochs     : int                        : 訓練次數\n",
    "batch_size : int                        : 批次大小 (註:此設定需與image_dataset_from_directory的批次大小一致)\n",
    "optimizer  : str or tf.keras.optimizers : 優化函數\n",
    "loss       : str or tf.keras.loss       : 損失函數\n",
    "metrics    : list                       : 評估函數清單\n",
    "```"
   ]
  },
  {
   "cell_type": "code",
   "execution_count": null,
   "metadata": {},
   "outputs": [],
   "source": [
    "cnn.setup_training(\n",
    "    'log_fcn',\n",
    "    epochs=20,\n",
    "    batch_size=train_dataset.batch_size,  # batch size depend on ImageGenerator\n",
    "    optimizer=tf.keras.optimizers.Adam(learning_rate=0.1),\n",
    "    loss=\"categorical_crossentropy\",\n",
    "    metrics=[\"Accuracy\", losses.DiceLoss],\n",
    ")"
   ]
  },
  {
   "cell_type": "markdown",
   "metadata": {},
   "source": [
    "### 開始訓練\n",
    "\n",
    "輸入參數分別為訓練資料集、驗證資料集的實例"
   ]
  },
  {
   "cell_type": "code",
   "execution_count": null,
   "metadata": {},
   "outputs": [],
   "source": [
    "cnn.train_dataset(train_dataset, valid_dataset)"
   ]
  },
  {
   "cell_type": "markdown",
   "metadata": {},
   "source": [
    "### 繪製訓練過程曲線\n",
    "\n",
    "可以用來確認權重是否有收斂的趨勢、檢查是否有過擬合狀況"
   ]
  },
  {
   "cell_type": "code",
   "execution_count": null,
   "metadata": {},
   "outputs": [],
   "source": [
    "cnn.show_history([\"loss\"])"
   ]
  },
  {
   "cell_type": "markdown",
   "metadata": {},
   "source": [
    "### 使用測試資料來確認模型對於新資料的效能"
   ]
  },
  {
   "cell_type": "code",
   "execution_count": null,
   "metadata": {},
   "outputs": [],
   "source": [
    "cnn.eval_dataset(valid_dataset)"
   ]
  },
  {
   "cell_type": "markdown",
   "metadata": {},
   "source": [
    "### 預測單筆資料"
   ]
  },
  {
   "cell_type": "code",
   "execution_count": null,
   "metadata": {},
   "outputs": [],
   "source": [
    "idx = 0\n",
    "\n",
    "mask_size = (224, 224)\n",
    "\n",
    "image_path = train_image_paths[idx]\n",
    "mask_path = train_mask_paths[idx]\n",
    "print(image_path)\n",
    "print(image_path)\n",
    "\n",
    "image = cv2.imread(image_path)\n",
    "mask = cv2.imread(mask_path, 0)\n",
    "\n",
    "resized_image = cv2.resize(image, mask_size)\n",
    "resized_mask = cv2.resize(mask, mask_size, interpolation=cv2.INTER_NEAREST).astype(\"uint8\")\n",
    "resized_mask = resized_mask.reshape((-1,))\n",
    "resized_mask = np.eye(21).astype(\"uint8\")[resized_mask]  # one-hot\n",
    "resized_mask = resized_mask.reshape(1,224,224,21)\n",
    "\n",
    "batch_one_image = np.expand_dims(resized_image, axis=0)\n",
    "print(batch_one_image.shape)\n",
    "cnn.load_checkpoint()\n",
    "pr_sc = cnn.predict(batch_one_image)\n",
    "predicted_mask = pr_sc.reshape(1,224,224,21)\n",
    "\n",
    "plt.figure(figsize=(16,32))\n",
    "plt.subplot(131)\n",
    "plt.imshow(resized_image)\n",
    "plt.subplot(132)\n",
    "plt.imshow(resized_mask[idx,...,0])\n",
    "plt.subplot(133)\n",
    "plt.imshow(predicted_mask[idx,...,0])\n",
    "plt.show()"
   ]
  },
  {
   "cell_type": "code",
   "execution_count": null,
   "metadata": {},
   "outputs": [],
   "source": []
  }
 ],
 "metadata": {
  "interpreter": {
   "hash": "2c369c7a0bd18095d69cc6bcfdfaf93c8e305f9651a20b05d28ea042855c27d0"
  },
  "kernelspec": {
   "display_name": "Python 3.7.10 64-bit ('tf2': conda)",
   "language": "python",
   "name": "python3"
  },
  "language_info": {
   "codemirror_mode": {
    "name": "ipython",
    "version": 3
   },
   "file_extension": ".py",
   "mimetype": "text/x-python",
   "name": "python",
   "nbconvert_exporter": "python",
   "pygments_lexer": "ipython3",
   "version": "3.7.10"
  },
  "orig_nbformat": 4
 },
 "nbformat": 4,
 "nbformat_minor": 2
}
