{
 "cells": [
  {
   "cell_type": "code",
   "execution_count": 1,
   "metadata": {},
   "outputs": [],
   "source": [
    "from mycnn import VGG16\n",
    "from mycnn import utils\n",
    "import tensorflow as tf\n",
    "import numpy as np"
   ]
  },
  {
   "cell_type": "code",
   "execution_count": 2,
   "metadata": {},
   "outputs": [
    {
     "name": "stdout",
     "output_type": "stream",
     "text": [
      "Found 25000 files belonging to 2 classes.\n",
      "Using 20000 files for training.\n",
      "Found 25000 files belonging to 2 classes.\n",
      "Using 5000 files for validation.\n"
     ]
    },
    {
     "data": {
      "text/plain": [
       "<MapDataset shapes: ((None, 224, 224, 3), (None, 2)), types: (tf.float32, tf.float32)>"
      ]
     },
     "execution_count": 2,
     "metadata": {},
     "output_type": "execute_result"
    }
   ],
   "source": [
    "train_dataset = tf.keras.preprocessing.image_dataset_from_directory(\n",
    "    r'D:\\Datasets\\DogsVsCats\\train',\n",
    "    image_size=(224,224),\n",
    "    batch_size=20,\n",
    "    label_mode=\"categorical\",\n",
    "    validation_split=0.2,\n",
    "    subset=\"training\",\n",
    "    seed=10\n",
    ")\n",
    "train_dataset.map(lambda x, y: (x/255., y))\n",
    "\n",
    "\n",
    "valid_dataset = tf.keras.preprocessing.image_dataset_from_directory(\n",
    "    r'D:\\Datasets\\DogsVsCats\\train',\n",
    "    image_size=(224,224),\n",
    "    batch_size=20,\n",
    "    label_mode=\"categorical\",\n",
    "    validation_split=0.2,\n",
    "    subset=\"validation\",\n",
    "    seed=10\n",
    ")\n",
    "valid_dataset.map(lambda x, y: (x/255., y))"
   ]
  },
  {
   "cell_type": "code",
   "execution_count": 3,
   "metadata": {},
   "outputs": [
    {
     "name": "stdout",
     "output_type": "stream",
     "text": [
      "Model: \"VGG16\"\n",
      "_________________________________________________________________\n",
      "Layer (type)                 Output Shape              Param #   \n",
      "=================================================================\n",
      "image (InputLayer)           [(None, 224, 224, 3)]     0         \n",
      "_________________________________________________________________\n",
      "block1_conv1 (Conv2D)        (None, 224, 224, 64)      1792      \n",
      "_________________________________________________________________\n",
      "block1_bn1 (BatchNormalizati (None, 224, 224, 64)      256       \n",
      "_________________________________________________________________\n",
      "block1_relu1 (ReLU)          (None, 224, 224, 64)      0         \n",
      "_________________________________________________________________\n",
      "block1_conv2 (Conv2D)        (None, 224, 224, 64)      36928     \n",
      "_________________________________________________________________\n",
      "block1_bn2 (BatchNormalizati (None, 224, 224, 64)      256       \n",
      "_________________________________________________________________\n",
      "block1_relu2 (ReLU)          (None, 224, 224, 64)      0         \n",
      "_________________________________________________________________\n",
      "block1_pool (MaxPooling2D)   (None, 112, 112, 64)      0         \n",
      "_________________________________________________________________\n",
      "block2_conv1 (Conv2D)        (None, 112, 112, 128)     73856     \n",
      "_________________________________________________________________\n",
      "block2_bn1 (BatchNormalizati (None, 112, 112, 128)     512       \n",
      "_________________________________________________________________\n",
      "block2_relu1 (ReLU)          (None, 112, 112, 128)     0         \n",
      "_________________________________________________________________\n",
      "block2_conv2 (Conv2D)        (None, 112, 112, 128)     147584    \n",
      "_________________________________________________________________\n",
      "block2_bn2 (BatchNormalizati (None, 112, 112, 128)     512       \n",
      "_________________________________________________________________\n",
      "block2_relu2 (ReLU)          (None, 112, 112, 128)     0         \n",
      "_________________________________________________________________\n",
      "block2_pool (MaxPooling2D)   (None, 56, 56, 128)       0         \n",
      "_________________________________________________________________\n",
      "block3_conv1 (Conv2D)        (None, 56, 56, 256)       295168    \n",
      "_________________________________________________________________\n",
      "block3_bn1 (BatchNormalizati (None, 56, 56, 256)       1024      \n",
      "_________________________________________________________________\n",
      "block3_relu1 (ReLU)          (None, 56, 56, 256)       0         \n",
      "_________________________________________________________________\n",
      "block3_conv2 (Conv2D)        (None, 56, 56, 256)       590080    \n",
      "_________________________________________________________________\n",
      "block3_bn2 (BatchNormalizati (None, 56, 56, 256)       1024      \n",
      "_________________________________________________________________\n",
      "block3_relu2 (ReLU)          (None, 56, 56, 256)       0         \n",
      "_________________________________________________________________\n",
      "block3_conv3 (Conv2D)        (None, 56, 56, 256)       590080    \n",
      "_________________________________________________________________\n",
      "block3_bn3 (BatchNormalizati (None, 56, 56, 256)       1024      \n",
      "_________________________________________________________________\n",
      "block3_relu3 (ReLU)          (None, 56, 56, 256)       0         \n",
      "_________________________________________________________________\n",
      "block3_pool (MaxPooling2D)   (None, 28, 28, 256)       0         \n",
      "_________________________________________________________________\n",
      "block4_conv1 (Conv2D)        (None, 28, 28, 512)       1180160   \n",
      "_________________________________________________________________\n",
      "block4_bn1 (BatchNormalizati (None, 28, 28, 512)       2048      \n",
      "_________________________________________________________________\n",
      "block4_relu1 (ReLU)          (None, 28, 28, 512)       0         \n",
      "_________________________________________________________________\n",
      "block4_conv2 (Conv2D)        (None, 28, 28, 512)       2359808   \n",
      "_________________________________________________________________\n",
      "block4_bn2 (BatchNormalizati (None, 28, 28, 512)       2048      \n",
      "_________________________________________________________________\n",
      "block4_relu2 (ReLU)          (None, 28, 28, 512)       0         \n",
      "_________________________________________________________________\n",
      "block4_conv3 (Conv2D)        (None, 28, 28, 512)       2359808   \n",
      "_________________________________________________________________\n",
      "block4_bn3 (BatchNormalizati (None, 28, 28, 512)       2048      \n",
      "_________________________________________________________________\n",
      "block4_relu3 (ReLU)          (None, 28, 28, 512)       0         \n",
      "_________________________________________________________________\n",
      "block4_pool (MaxPooling2D)   (None, 14, 14, 512)       0         \n",
      "_________________________________________________________________\n",
      "block5_conv1 (Conv2D)        (None, 14, 14, 512)       2359808   \n",
      "_________________________________________________________________\n",
      "block5_bn1 (BatchNormalizati (None, 14, 14, 512)       2048      \n",
      "_________________________________________________________________\n",
      "block5_relu1 (ReLU)          (None, 14, 14, 512)       0         \n",
      "_________________________________________________________________\n",
      "block5_conv2 (Conv2D)        (None, 14, 14, 512)       2359808   \n",
      "_________________________________________________________________\n",
      "block5_bn2 (BatchNormalizati (None, 14, 14, 512)       2048      \n",
      "_________________________________________________________________\n",
      "block5_relu2 (ReLU)          (None, 14, 14, 512)       0         \n",
      "_________________________________________________________________\n",
      "block5_conv3 (Conv2D)        (None, 14, 14, 512)       2359808   \n",
      "_________________________________________________________________\n",
      "block5_bn3 (BatchNormalizati (None, 14, 14, 512)       2048      \n",
      "_________________________________________________________________\n",
      "block5_relu3 (ReLU)          (None, 14, 14, 512)       0         \n",
      "_________________________________________________________________\n",
      "block5_pool (MaxPooling2D)   (None, 7, 7, 512)         0         \n",
      "_________________________________________________________________\n",
      "flatten (Flatten)            (None, 25088)             0         \n",
      "_________________________________________________________________\n",
      "fc1 (Dense)                  (None, 4096)              102764544 \n",
      "_________________________________________________________________\n",
      "fc1_relu (ReLU)              (None, 4096)              0         \n",
      "_________________________________________________________________\n",
      "fc1_dropout (Dropout)        (None, 4096)              0         \n",
      "_________________________________________________________________\n",
      "fc2 (Dense)                  (None, 4096)              16781312  \n",
      "_________________________________________________________________\n",
      "fc2_relu (ReLU)              (None, 4096)              0         \n",
      "_________________________________________________________________\n",
      "fc2_dropout (Dropout)        (None, 4096)              0         \n",
      "_________________________________________________________________\n",
      "predictions (Dense)          (None, 2)                 8194      \n",
      "=================================================================\n",
      "Total params: 134,285,634\n",
      "Trainable params: 134,277,186\n",
      "Non-trainable params: 8,448\n",
      "_________________________________________________________________\n"
     ]
    }
   ],
   "source": [
    "vgg16 = VGG16(classes_num=2)\n",
    "vgg16.summary()"
   ]
  },
  {
   "cell_type": "code",
   "execution_count": null,
   "metadata": {},
   "outputs": [],
   "source": [
    "vgg16.setup_training(\n",
    "    'log_vgg16',\n",
    "    epochs=20,\n",
    "    batch_size=20,  # batch size depend on ImageGenerator\n",
    "    optimizer=tf.keras.optimizers.SGD(learning_rate=0.01, momentum=0.9),\n",
    "    loss='categorical_crossentropy',\n",
    "    metrics=['accuracy']\n",
    ")\n",
    "vgg16.add_callback(\n",
    "    tf.keras.callbacks.ReduceLROnPlateau(\n",
    "        monitor='val_loss', \n",
    "        factor=0.8, patience=10,\n",
    "        min_lr=0.00001,\n",
    "        verbose=1\n",
    "    )\n",
    ")"
   ]
  },
  {
   "cell_type": "code",
   "execution_count": null,
   "metadata": {},
   "outputs": [],
   "source": [
    "vgg16.train_dataset(train_dataset, valid_dataset)"
   ]
  },
  {
   "cell_type": "code",
   "execution_count": null,
   "metadata": {},
   "outputs": [],
   "source": [
    "vgg16.show_history([\"loss\", \"accuracy\"])"
   ]
  },
  {
   "cell_type": "code",
   "execution_count": null,
   "metadata": {},
   "outputs": [],
   "source": [
    "vgg16.eval_dataset(valid_dataset)"
   ]
  },
  {
   "cell_type": "code",
   "execution_count": null,
   "metadata": {},
   "outputs": [],
   "source": [
    "pred_dataset = tf.keras.preprocessing.image_dataset_from_directory(\n",
    "    r'D:\\Datasets\\DogsVsCats\\train',\n",
    "    image_size=(227,227),\n",
    "    batch_size=1,\n",
    "    label_mode=\"categorical\",\n",
    "    validation_split=0.2,\n",
    "    subset=\"validation\",\n",
    "    seed=10\n",
    ")\n",
    "\n",
    "pr_score = vgg16.pred_dataset(pred_dataset)\n",
    "pr_label = pr_score.argmax(axis=-1)\n",
    "\n",
    "y_test = []\n",
    "for d in pred_dataset:\n",
    "    y_test.append(d[1].numpy()[0])\n",
    "y_test = np.array(y_test)\n",
    "gt_label = y_test.argmax(axis=-1)\n",
    "\n",
    "target_names = [\"Cats\", \"Dogs\"]\n",
    "\n",
    "report = utils.export_classification_report(\n",
    "    gt_label, pr_label, pr_score,\n",
    "    target_names=target_names,\n",
    "    logpath=vgg16.logdir\n",
    ")\n",
    "\n",
    "cm = report[\"confusion_matrix\"]\n",
    "cm_precision = cm/cm.sum(axis=0)\n",
    "cm_recall = cm/cm.sum(axis=1)\n",
    "utils.plot_confusion_matrix(cm_recall, target_names, vgg16.logdir, title='Confusion Matrix (recall)')\n",
    "utils.plot_confusion_matrix(cm_precision, target_names, vgg16.logdir, title='Confusion Matrix (precision)')"
   ]
  },
  {
   "cell_type": "code",
   "execution_count": null,
   "metadata": {},
   "outputs": [],
   "source": []
  }
 ],
 "metadata": {
  "interpreter": {
   "hash": "2c369c7a0bd18095d69cc6bcfdfaf93c8e305f9651a20b05d28ea042855c27d0"
  },
  "kernelspec": {
   "display_name": "Python 3.7.10 64-bit ('tf2': conda)",
   "language": "python",
   "name": "python3"
  },
  "language_info": {
   "codemirror_mode": {
    "name": "ipython",
    "version": 3
   },
   "file_extension": ".py",
   "mimetype": "text/x-python",
   "name": "python",
   "nbconvert_exporter": "python",
   "pygments_lexer": "ipython3",
   "version": "3.7.10"
  },
  "orig_nbformat": 4
 },
 "nbformat": 4,
 "nbformat_minor": 2
}
