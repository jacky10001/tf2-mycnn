{
 "cells": [
  {
   "cell_type": "code",
   "execution_count": 1,
   "metadata": {},
   "outputs": [],
   "source": [
    "from mycnn.lenet import *\n",
    "import tensorflow as tf\n",
    "import numpy as np"
   ]
  },
  {
   "cell_type": "code",
   "execution_count": 2,
   "metadata": {},
   "outputs": [
    {
     "name": "stdout",
     "output_type": "stream",
     "text": [
      "(60000, 32, 32, 1)\n",
      "(10000, 32, 32, 1)\n"
     ]
    }
   ],
   "source": [
    "(x_train, y_train), (x_test, y_test) = tf.keras.datasets.mnist.load_data()\n",
    "\n",
    "# reshape 784 to 28x28x1\n",
    "x_train = x_train.reshape(x_train.shape[0], 28, 28, 1)\n",
    "x_test = x_test.reshape(x_test.shape[0], 28, 28, 1)\n",
    "\n",
    "# pad image from 28x28x1 to 32x32x1\n",
    "x_train = np.pad(x_train, ((0,0),(2,2),(2,2),(0,0)))\n",
    "x_test = np.pad(x_test, ((0,0),(2,2),(2,2),(0,0)))\n",
    "print(x_train.shape)\n",
    "print(x_test.shape)\n",
    "\n",
    "# convert to float and normalize\n",
    "x_train = x_train.astype('float32')\n",
    "x_test = x_test.astype('float32')\n",
    "x_train = x_train / 255.0\n",
    "x_test = x_test / 255.0\n",
    "\n",
    "# one-hot encode the labels\n",
    "y_train = tf.keras.utils.to_categorical(y_train, 10)\n",
    "y_test = tf.keras.utils.to_categorical(y_test, 10)"
   ]
  },
  {
   "cell_type": "code",
   "execution_count": 3,
   "metadata": {},
   "outputs": [
    {
     "name": "stdout",
     "output_type": "stream",
     "text": [
      "Model: \"cnn\"\n",
      "_________________________________________________________________\n",
      "Layer (type)                 Output Shape              Param #   \n",
      "=================================================================\n",
      "input_1 (InputLayer)         [(None, 32, 32, 1)]       0         \n",
      "_________________________________________________________________\n",
      "conv2d (Conv2D)              (None, 28, 28, 6)         156       \n",
      "_________________________________________________________________\n",
      "average_pooling2d (AveragePo (None, 14, 14, 6)         0         \n",
      "_________________________________________________________________\n",
      "conv2d_1 (Conv2D)            (None, 10, 10, 16)        2416      \n",
      "_________________________________________________________________\n",
      "average_pooling2d_1 (Average (None, 5, 5, 16)          0         \n",
      "_________________________________________________________________\n",
      "flatten (Flatten)            (None, 400)               0         \n",
      "_________________________________________________________________\n",
      "dense (Dense)                (None, 120)               48120     \n",
      "_________________________________________________________________\n",
      "dense_1 (Dense)              (None, 84)                10164     \n",
      "_________________________________________________________________\n",
      "dense_2 (Dense)              (None, 10)                850       \n",
      "=================================================================\n",
      "Total params: 61,706\n",
      "Trainable params: 61,706\n",
      "Non-trainable params: 0\n",
      "_________________________________________________________________\n"
     ]
    }
   ],
   "source": [
    "lenet5 = LeNet5()\n",
    "lenet5.build()\n",
    "lenet5.summary()"
   ]
  },
  {
   "cell_type": "code",
   "execution_count": 4,
   "metadata": {},
   "outputs": [
    {
     "name": "stdout",
     "output_type": "stream",
     "text": [
      "Create new the directory for training log !!!!!\n",
      "******************************\n",
      "Training new model...\n",
      "******************************\n",
      "checkpoint_path : log_lenet5\\weights\n",
      "best_checkpoint : log_lenet5\\weights.h5\n",
      "nb_epoch        : 10\n",
      "initial_epoch   : 0\n",
      "batch_size      : 100\n",
      "optimizer       : <tensorflow.python.keras.optimizer_v2.gradient_descent.SGD object at 0x000001E3E94C8948>\n",
      "loss            : categorical_crossentropy\n",
      "metrics         : ['accuracy']\n"
     ]
    },
    {
     "data": {
      "text/plain": [
       "<mycnn.lenet.LeNet5 at 0x1e3e989da88>"
      ]
     },
     "execution_count": 4,
     "metadata": {},
     "output_type": "execute_result"
    }
   ],
   "source": [
    "lenet5.setup_training(\n",
    "    'log_lenet5', 10, 100,\n",
    "    optimizer=tf.keras.optimizers.SGD(lr=0.1, momentum=0.0, decay=0.0),\n",
    "    loss='categorical_crossentropy',\n",
    "    metrics=['accuracy']\n",
    ")"
   ]
  },
  {
   "cell_type": "code",
   "execution_count": 5,
   "metadata": {},
   "outputs": [
    {
     "name": "stdout",
     "output_type": "stream",
     "text": [
      "Epoch 1/10\n",
      "500/500 [==============================] - 6s 8ms/step - loss: 0.7265 - accuracy: 0.7903 - val_loss: 0.1889 - val_accuracy: 0.9457\n",
      "\n",
      "Epoch 00001: val_loss improved from inf to 0.18889, saving model to log_lenet5\\weights.h5\n",
      "Epoch 2/10\n",
      "500/500 [==============================] - 3s 6ms/step - loss: 0.1792 - accuracy: 0.9458 - val_loss: 0.1150 - val_accuracy: 0.9665\n",
      "\n",
      "Epoch 00002: val_loss improved from 0.18889 to 0.11495, saving model to log_lenet5\\weights.h5\n",
      "Epoch 3/10\n",
      "500/500 [==============================] - 3s 6ms/step - loss: 0.1167 - accuracy: 0.9645 - val_loss: 0.0925 - val_accuracy: 0.9739\n",
      "\n",
      "Epoch 00003: val_loss improved from 0.11495 to 0.09245, saving model to log_lenet5\\weights.h5\n",
      "Epoch 4/10\n",
      "500/500 [==============================] - 3s 6ms/step - loss: 0.0831 - accuracy: 0.9758 - val_loss: 0.0730 - val_accuracy: 0.9786\n",
      "\n",
      "Epoch 00004: val_loss improved from 0.09245 to 0.07296, saving model to log_lenet5\\weights.h5\n",
      "Epoch 5/10\n",
      "500/500 [==============================] - 3s 6ms/step - loss: 0.0678 - accuracy: 0.9794 - val_loss: 0.0644 - val_accuracy: 0.9801\n",
      "\n",
      "Epoch 00005: val_loss improved from 0.07296 to 0.06436, saving model to log_lenet5\\weights.h5\n",
      "Epoch 6/10\n",
      "500/500 [==============================] - 3s 6ms/step - loss: 0.0532 - accuracy: 0.9838 - val_loss: 0.0565 - val_accuracy: 0.9823\n",
      "\n",
      "Epoch 00006: val_loss improved from 0.06436 to 0.05653, saving model to log_lenet5\\weights.h5\n",
      "Epoch 7/10\n",
      "500/500 [==============================] - 3s 6ms/step - loss: 0.0472 - accuracy: 0.9857 - val_loss: 0.0611 - val_accuracy: 0.9823\n",
      "\n",
      "Epoch 00007: val_loss did not improve from 0.05653\n",
      "Epoch 8/10\n",
      "500/500 [==============================] - 3s 6ms/step - loss: 0.0432 - accuracy: 0.9874 - val_loss: 0.0530 - val_accuracy: 0.9854\n",
      "\n",
      "Epoch 00008: val_loss improved from 0.05653 to 0.05297, saving model to log_lenet5\\weights.h5\n",
      "Epoch 9/10\n",
      "500/500 [==============================] - 3s 6ms/step - loss: 0.0347 - accuracy: 0.9899 - val_loss: 0.0487 - val_accuracy: 0.9849\n",
      "\n",
      "Epoch 00009: val_loss improved from 0.05297 to 0.04875, saving model to log_lenet5\\weights.h5\n",
      "Epoch 10/10\n",
      "500/500 [==============================] - 3s 6ms/step - loss: 0.0326 - accuracy: 0.9906 - val_loss: 0.0493 - val_accuracy: 0.9859\n",
      "\n",
      "Epoch 00010: val_loss did not improve from 0.04875\n"
     ]
    }
   ],
   "source": [
    "lenet5.train(x_train[:50000], y_train[:50000], x_train[50000:], y_train[50000:])"
   ]
  },
  {
   "cell_type": "code",
   "execution_count": null,
   "metadata": {},
   "outputs": [],
   "source": []
  }
 ],
 "metadata": {
  "interpreter": {
   "hash": "2c369c7a0bd18095d69cc6bcfdfaf93c8e305f9651a20b05d28ea042855c27d0"
  },
  "kernelspec": {
   "display_name": "Python 3.7.10 64-bit ('tf2': conda)",
   "language": "python",
   "name": "python3"
  },
  "language_info": {
   "codemirror_mode": {
    "name": "ipython",
    "version": 3
   },
   "file_extension": ".py",
   "mimetype": "text/x-python",
   "name": "python",
   "nbconvert_exporter": "python",
   "pygments_lexer": "ipython3",
   "version": "3.7.10"
  },
  "orig_nbformat": 4
 },
 "nbformat": 4,
 "nbformat_minor": 2
}
